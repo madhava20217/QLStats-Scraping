{
 "cells": [
  {
   "cell_type": "code",
   "execution_count": 81,
   "metadata": {},
   "outputs": [],
   "source": [
    "import selenium\n",
    "from selenium import webdriver\n",
    "from selenium.webdriver.common.by import By\n",
    "\n",
    "import bs4\n",
    "import re\n",
    "\n",
    "import pandas as pd\n",
    "from dateutil import parser"
   ]
  },
  {
   "cell_type": "code",
   "execution_count": 4,
   "metadata": {},
   "outputs": [],
   "source": [
    "options = webdriver.EdgeOptions()\n",
    "# options.add_argument('headless')\n",
    "options.add_argument('inprivate')\n",
    "driver = webdriver.Edge(options= options)"
   ]
  },
  {
   "cell_type": "code",
   "execution_count": 7,
   "metadata": {},
   "outputs": [],
   "source": [
    "driver.get('https://qlstats.net/games?server_id=5935')"
   ]
  },
  {
   "cell_type": "markdown",
   "metadata": {},
   "source": [
    "### Bypass cookie screen"
   ]
  },
  {
   "cell_type": "code",
   "execution_count": 6,
   "metadata": {},
   "outputs": [],
   "source": [
    "def is_cookie_screen(driver : selenium.webdriver):\n",
    "    '''A function to check if the given webpage is the 'accept cookies' screen.\n",
    "    Regex matches the body of the '''\n",
    "    element = driver.find_element(By.TAG_NAME, value = 'body')\n",
    "    cookie_screen = re.compile(r'.*(To continue using qlstats, you need to agree to the use of cookies.\\nAgree).*')\n",
    "    if cookie_screen.search(element.text) is None:\n",
    "        return False\n",
    "    return True\n",
    "#press the button\n",
    "\n",
    "\n",
    "if is_cookie_screen(driver):\n",
    "    try:\n",
    "        button = driver.find_element(By.TAG_NAME, 'button')\n",
    "        button.click()\n",
    "    except:\n",
    "        \"Cookies could not be accepted, please recheck\""
   ]
  },
  {
   "cell_type": "markdown",
   "metadata": {},
   "source": [
    "### Scrape server match info"
   ]
  },
  {
   "cell_type": "code",
   "execution_count": 102,
   "metadata": {},
   "outputs": [],
   "source": [
    "soup = bs4.BeautifulSoup(driver.page_source)"
   ]
  },
  {
   "cell_type": "code",
   "execution_count": 104,
   "metadata": {},
   "outputs": [
    {
     "data": {
      "text/plain": [
       "<a class=\"btn btn-primary btn-small\" href=\"/game/8863522\" title=\"View detailed information about this game\">view</a>"
      ]
     },
     "execution_count": 104,
     "metadata": {},
     "output_type": "execute_result"
    }
   ],
   "source": [
    "soup.findAll('tr')[1].find('a')"
   ]
  },
  {
   "cell_type": "code",
   "execution_count": 94,
   "metadata": {},
   "outputs": [
    {
     "data": {
      "text/plain": [
       "['/game/8867500',\n",
       " '/game/8865816',\n",
       " '/game/8865790',\n",
       " '/game/8865761',\n",
       " '/game/8865746',\n",
       " '/game/8865710',\n",
       " '/game/8865680',\n",
       " '/game/8865655',\n",
       " '/game/8865642',\n",
       " '/game/8864130',\n",
       " '/game/8864104',\n",
       " '/game/8864075',\n",
       " '/game/8864047',\n",
       " '/game/8864009',\n",
       " '/game/8863969',\n",
       " '/game/8863928',\n",
       " '/game/8863900',\n",
       " '/game/8863857',\n",
       " '/game/8863825',\n",
       " '/game/8863807']"
      ]
     },
     "execution_count": 94,
     "metadata": {},
     "output_type": "execute_result"
    }
   ],
   "source": [
    "urls = [x.get('href') for x in soup.find('table').find_all('a', attrs = {'class':'btn'}, recursive = True)]\n",
    "urls"
   ]
  },
  {
   "cell_type": "code",
   "execution_count": 96,
   "metadata": {},
   "outputs": [
    {
     "data": {
      "text/plain": [
       "[datetime.datetime(2023, 8, 1, 20, 44, 59),\n",
       " datetime.datetime(2023, 8, 1, 22, 46, 33),\n",
       " datetime.datetime(2023, 8, 1, 22, 33, 17),\n",
       " datetime.datetime(2023, 8, 1, 22, 19, 15),\n",
       " datetime.datetime(2023, 8, 1, 22, 9, 35),\n",
       " datetime.datetime(2023, 8, 1, 21, 48, 50),\n",
       " datetime.datetime(2023, 7, 31, 21, 31, 38),\n",
       " datetime.datetime(2023, 7, 31, 21, 15, 19),\n",
       " datetime.datetime(2023, 7, 31, 21, 5, 41),\n",
       " datetime.datetime(2023, 7, 30, 23, 46, 22),\n",
       " datetime.datetime(2023, 7, 30, 23, 33, 46),\n",
       " datetime.datetime(2023, 7, 30, 23, 21, 22),\n",
       " datetime.datetime(2023, 7, 30, 23, 5, 59),\n",
       " datetime.datetime(2023, 7, 30, 22, 45, 19),\n",
       " datetime.datetime(2023, 7, 30, 22, 25, 56),\n",
       " datetime.datetime(2023, 7, 30, 22, 3, 52),\n",
       " datetime.datetime(2023, 7, 30, 21, 50, 54),\n",
       " datetime.datetime(2023, 7, 30, 21, 28, 13),\n",
       " datetime.datetime(2023, 7, 30, 21, 9, 25),\n",
       " datetime.datetime(2023, 7, 30, 20, 56, 12)]"
      ]
     },
     "execution_count": 96,
     "metadata": {},
     "output_type": "execute_result"
    }
   ],
   "source": [
    "dates = [parser.parse(x.text) for x in soup.find_all('span', attrs = {'class':'abstime'})]\n",
    "dates"
   ]
  },
  {
   "cell_type": "code",
   "execution_count": 90,
   "metadata": {},
   "outputs": [
    {
     "data": {
      "text/plain": [
       "'/games?server_id=5935&start_game_id=8863806'"
      ]
     },
     "execution_count": 90,
     "metadata": {},
     "output_type": "execute_result"
    }
   ],
   "source": [
    "soup.find('a', attrs = {\"name\": \"Next Page\"}).get('href')"
   ]
  }
 ],
 "metadata": {
  "kernelspec": {
   "display_name": "Python 3.11.3 ('torchnew')",
   "language": "python",
   "name": "python3"
  },
  "language_info": {
   "codemirror_mode": {
    "name": "ipython",
    "version": 3
   },
   "file_extension": ".py",
   "mimetype": "text/x-python",
   "name": "python",
   "nbconvert_exporter": "python",
   "pygments_lexer": "ipython3",
   "version": "3.11.3"
  },
  "orig_nbformat": 4,
  "vscode": {
   "interpreter": {
    "hash": "aae2c75324e7fdf5ebd22146e2daffaa477f8ea149f0e685be4c317c2939a685"
   }
  }
 },
 "nbformat": 4,
 "nbformat_minor": 2
}
