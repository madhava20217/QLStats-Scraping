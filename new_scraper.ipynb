{
 "cells": [
  {
   "cell_type": "code",
   "execution_count": 1,
   "metadata": {},
   "outputs": [],
   "source": [
    "import selenium\n",
    "from selenium import webdriver\n",
    "from selenium.webdriver.common.by import By\n",
    "\n",
    "import bs4\n",
    "import re\n",
    "\n",
    "import pandas as pd\n",
    "from dateutil import parser\n",
    "from tqdm import tqdm\n",
    "\n",
    "tqdm.pandas()"
   ]
  },
  {
   "cell_type": "code",
   "execution_count": 2,
   "metadata": {},
   "outputs": [],
   "source": [
    "options = webdriver.EdgeOptions()\n",
    "# options.add_argument('headless')\n",
    "options.add_argument('inprivate')\n",
    "driver = webdriver.Edge(options= options)"
   ]
  },
  {
   "cell_type": "code",
   "execution_count": 3,
   "metadata": {},
   "outputs": [],
   "source": [
    "driver.get('https://qlstats.net/games?server_id=5935')"
   ]
  },
  {
   "cell_type": "markdown",
   "metadata": {},
   "source": [
    "### Bypass cookie screen"
   ]
  },
  {
   "cell_type": "code",
   "execution_count": 4,
   "metadata": {},
   "outputs": [],
   "source": [
    "def is_cookie_screen(driver : selenium.webdriver):\n",
    "    '''A function to check if the given webpage is the 'accept cookies' screen.\n",
    "    Regex matches the body of the '''\n",
    "    element = driver.find_element(By.TAG_NAME, value = 'body')\n",
    "    cookie_screen = re.compile(r'.*(To continue using qlstats, you need to agree to the use of cookies.\\nAgree).*')\n",
    "    if cookie_screen.search(element.text) is None:\n",
    "        return False\n",
    "    return True\n",
    "#press the button\n",
    "\n",
    "\n",
    "if is_cookie_screen(driver):\n",
    "    try:\n",
    "        button = driver.find_element(By.TAG_NAME, 'button')\n",
    "        button.click()\n",
    "    except:\n",
    "        \"Cookies could not be accepted, please recheck\""
   ]
  },
  {
   "cell_type": "markdown",
   "metadata": {},
   "source": [
    "### Scrape server matches info"
   ]
  },
  {
   "cell_type": "code",
   "execution_count": 5,
   "metadata": {},
   "outputs": [
    {
     "name": "stdout",
     "output_type": "stream",
     "text": [
      "Next button not found, exiting...\n"
     ]
    }
   ],
   "source": [
    "server_scraping_df = pd.DataFrame()\n",
    "\n",
    "while(True):\n",
    "\n",
    "    soup = bs4.BeautifulSoup(driver.page_source)\n",
    "    table = soup.find('table', attrs = {'class': 'table table-hover table-condensed'})\n",
    "\n",
    "    header = table.find('thead')\n",
    "    #find columns in head\n",
    "    head = []\n",
    "    for col in header.findAll('th'):\n",
    "        head.append(col.text)\n",
    "\n",
    "    # find indices of '', 'type', 'map', 'score', 'rated'\n",
    "    columns = ['', 'Time', 'Type', 'Loc', 'Server', 'Map', 'Score', 'Rated']\n",
    "    named_columns = ['href'] + columns[1:]\n",
    "\n",
    "    search_indices = [head.index(x) for x in columns]\n",
    "    search_key_vals = dict(zip(search_indices, columns))\n",
    "\n",
    "    # scraping content\n",
    "    scraped = []\n",
    "    content = table.find('tbody')\n",
    "    for row in content.findAll('tr'):\n",
    "        tr_info = []\n",
    "        all_content = row.findAll('td')\n",
    "        for idx in search_indices:\n",
    "            element = all_content[idx]\n",
    "        \n",
    "            if search_key_vals[idx] == '':\n",
    "                # view button\n",
    "                tr_info.append(element.find('a').get('href'))\n",
    "            \n",
    "            elif search_key_vals[idx] == 'Time':\n",
    "                tr_info.append(parser.parse(element.find('span', attrs = {'class':'abstime'}).text))\n",
    "\n",
    "            elif search_key_vals[idx] in ['Type', 'Map', 'Score', 'Rated', 'Loc', 'Server']:\n",
    "                # other columns\n",
    "                tr_info.append(element.text.strip())\n",
    "\n",
    "        #append to scraped\n",
    "        scraped.append(tr_info)\n",
    "\n",
    "    page_scrape_df = pd.DataFrame(scraped, columns = named_columns)\n",
    "    server_scraping_df = pd.concat([server_scraping_df, page_scrape_df])\n",
    "\n",
    "    try:\n",
    "        btn = driver.find_element(by = By.NAME, value = 'Next Page')\n",
    "        btn.click()\n",
    "    except:\n",
    "        print(\"Next button not found, exiting...\")\n",
    "        break"
   ]
  },
  {
   "cell_type": "code",
   "execution_count": 15,
   "metadata": {},
   "outputs": [
    {
     "data": {
      "text/html": [
       "<div>\n",
       "<style scoped>\n",
       "    .dataframe tbody tr th:only-of-type {\n",
       "        vertical-align: middle;\n",
       "    }\n",
       "\n",
       "    .dataframe tbody tr th {\n",
       "        vertical-align: top;\n",
       "    }\n",
       "\n",
       "    .dataframe thead th {\n",
       "        text-align: right;\n",
       "    }\n",
       "</style>\n",
       "<table border=\"1\" class=\"dataframe\">\n",
       "  <thead>\n",
       "    <tr style=\"text-align: right;\">\n",
       "      <th></th>\n",
       "      <th>href</th>\n",
       "      <th>Time</th>\n",
       "      <th>Type</th>\n",
       "      <th>Loc</th>\n",
       "      <th>Server</th>\n",
       "      <th>Map</th>\n",
       "      <th>Score</th>\n",
       "      <th>Rated</th>\n",
       "    </tr>\n",
       "  </thead>\n",
       "  <tbody>\n",
       "    <tr>\n",
       "      <th>0</th>\n",
       "      <td>/game/8893785</td>\n",
       "      <td>2023-08-14 17:40:37</td>\n",
       "      <td>ca</td>\n",
       "      <td>CN</td>\n",
       "      <td>-=Moon CA(Blue)=-</td>\n",
       "      <td>campgrounds</td>\n",
       "      <td>10:9</td>\n",
       "      <td>A</td>\n",
       "    </tr>\n",
       "    <tr>\n",
       "      <th>1</th>\n",
       "      <td>/game/8893784</td>\n",
       "      <td>2023-08-14 17:39:39</td>\n",
       "      <td>duel</td>\n",
       "      <td>US</td>\n",
       "      <td>#1 Chicago, IL (CHI) - qcon_duel</td>\n",
       "      <td>hektik</td>\n",
       "      <td>2:-999</td>\n",
       "      <td>A</td>\n",
       "    </tr>\n",
       "    <tr>\n",
       "      <th>2</th>\n",
       "      <td>/game/8893783</td>\n",
       "      <td>2023-08-14 17:38:27</td>\n",
       "      <td>ca</td>\n",
       "      <td>DE</td>\n",
       "      <td>relax ca #2</td>\n",
       "      <td>overkill</td>\n",
       "      <td>4:10</td>\n",
       "      <td>A</td>\n",
       "    </tr>\n",
       "    <tr>\n",
       "      <th>3</th>\n",
       "      <td>/game/8893782</td>\n",
       "      <td>2023-08-14 17:38:15</td>\n",
       "      <td>ffa</td>\n",
       "      <td>RU</td>\n",
       "      <td>|)ark Fiber FFA | RU</td>\n",
       "      <td>bloodrun</td>\n",
       "      <td>50:30</td>\n",
       "      <td></td>\n",
       "    </tr>\n",
       "    <tr>\n",
       "      <th>4</th>\n",
       "      <td>/game/8893781</td>\n",
       "      <td>2023-08-14 17:38:11</td>\n",
       "      <td>duel</td>\n",
       "      <td>AU</td>\n",
       "      <td>#7 &lt;&gt; Sydney VQL - Multi Gametype</td>\n",
       "      <td>bloodrun</td>\n",
       "      <td>8:4</td>\n",
       "      <td>A</td>\n",
       "    </tr>\n",
       "    <tr>\n",
       "      <th>...</th>\n",
       "      <td>...</td>\n",
       "      <td>...</td>\n",
       "      <td>...</td>\n",
       "      <td>...</td>\n",
       "      <td>...</td>\n",
       "      <td>...</td>\n",
       "      <td>...</td>\n",
       "      <td>...</td>\n",
       "    </tr>\n",
       "    <tr>\n",
       "      <th>18</th>\n",
       "      <td>/game/8872869</td>\n",
       "      <td>2023-08-04 15:09:53</td>\n",
       "      <td>ca</td>\n",
       "      <td>US</td>\n",
       "      <td>֍֍֍ BoneCrusher | CHI ֍֍֍</td>\n",
       "      <td>overkill</td>\n",
       "      <td>10:2</td>\n",
       "      <td>A</td>\n",
       "    </tr>\n",
       "    <tr>\n",
       "      <th>19</th>\n",
       "      <td>/game/8872869</td>\n",
       "      <td>2023-08-04 15:09:53</td>\n",
       "      <td>ca</td>\n",
       "      <td>US</td>\n",
       "      <td>֍֍֍ BoneCrusher | CHI ֍֍֍</td>\n",
       "      <td>overkill</td>\n",
       "      <td>10:2</td>\n",
       "      <td>A</td>\n",
       "    </tr>\n",
       "    <tr>\n",
       "      <th>20</th>\n",
       "      <td>/game/8872868</td>\n",
       "      <td>2023-08-04 15:09:03</td>\n",
       "      <td>ffa</td>\n",
       "      <td>DE</td>\n",
       "      <td>HOMER Germany Side | Frankfurt cool PING</td>\n",
       "      <td>bloodrun</td>\n",
       "      <td>55:44</td>\n",
       "      <td>A</td>\n",
       "    </tr>\n",
       "    <tr>\n",
       "      <th>21</th>\n",
       "      <td>/game/8872867</td>\n",
       "      <td>2023-08-04 15:08:37</td>\n",
       "      <td>ca</td>\n",
       "      <td>DE</td>\n",
       "      <td>relax ca #2</td>\n",
       "      <td>quarantine</td>\n",
       "      <td>10:3</td>\n",
       "      <td>A</td>\n",
       "    </tr>\n",
       "    <tr>\n",
       "      <th>22</th>\n",
       "      <td>/game/8872866</td>\n",
       "      <td>2023-08-04 15:06:00</td>\n",
       "      <td>duel</td>\n",
       "      <td>RU</td>\n",
       "      <td>q3live.4e6a.ru #3</td>\n",
       "      <td>bloodrun</td>\n",
       "      <td>8:-999</td>\n",
       "      <td>A</td>\n",
       "    </tr>\n",
       "  </tbody>\n",
       "</table>\n",
       "<p>20923 rows × 8 columns</p>\n",
       "</div>"
      ],
      "text/plain": [
       "             href                Time  Type Loc  \\\n",
       "0   /game/8893785 2023-08-14 17:40:37    ca  CN   \n",
       "1   /game/8893784 2023-08-14 17:39:39  duel  US   \n",
       "2   /game/8893783 2023-08-14 17:38:27    ca  DE   \n",
       "3   /game/8893782 2023-08-14 17:38:15   ffa  RU   \n",
       "4   /game/8893781 2023-08-14 17:38:11  duel  AU   \n",
       "..            ...                 ...   ...  ..   \n",
       "18  /game/8872869 2023-08-04 15:09:53    ca  US   \n",
       "19  /game/8872869 2023-08-04 15:09:53    ca  US   \n",
       "20  /game/8872868 2023-08-04 15:09:03   ffa  DE   \n",
       "21  /game/8872867 2023-08-04 15:08:37    ca  DE   \n",
       "22  /game/8872866 2023-08-04 15:06:00  duel  RU   \n",
       "\n",
       "                                      Server          Map   Score Rated  \n",
       "0                          -=Moon CA(Blue)=-  campgrounds    10:9     A  \n",
       "1           #1 Chicago, IL (CHI) - qcon_duel       hektik  2:-999     A  \n",
       "2                                relax ca #2     overkill    4:10     A  \n",
       "3                       |)ark Fiber FFA | RU     bloodrun   50:30        \n",
       "4          #7 <> Sydney VQL - Multi Gametype     bloodrun     8:4     A  \n",
       "..                                       ...          ...     ...   ...  \n",
       "18                 ֍֍֍ BoneCrusher | CHI ֍֍֍     overkill    10:2     A  \n",
       "19                 ֍֍֍ BoneCrusher | CHI ֍֍֍     overkill    10:2     A  \n",
       "20  HOMER Germany Side | Frankfurt cool PING     bloodrun   55:44     A  \n",
       "21                               relax ca #2   quarantine    10:3     A  \n",
       "22                         q3live.4e6a.ru #3     bloodrun  8:-999     A  \n",
       "\n",
       "[20923 rows x 8 columns]"
      ]
     },
     "execution_count": 15,
     "metadata": {},
     "output_type": "execute_result"
    }
   ],
   "source": [
    "server_scraping_df"
   ]
  },
  {
   "cell_type": "code",
   "execution_count": 16,
   "metadata": {},
   "outputs": [],
   "source": [
    "server_scraping_df.to_csv(\"./data/match_details.csv\", index = False)"
   ]
  },
  {
   "cell_type": "markdown",
   "metadata": {},
   "source": [
    "## Testing"
   ]
  },
  {
   "cell_type": "code",
   "execution_count": null,
   "metadata": {},
   "outputs": [
    {
     "data": {
      "text/plain": [
       "['/game/8892316',\n",
       " '/game/8892261',\n",
       " '/game/8892223',\n",
       " '/game/8892179',\n",
       " '/game/8892128',\n",
       " '/game/8892086',\n",
       " '/game/8892043',\n",
       " '/game/8892011',\n",
       " '/game/8891984',\n",
       " '/game/8889851',\n",
       " '/game/8889819',\n",
       " '/game/8889786',\n",
       " '/game/8889753',\n",
       " '/game/8889728',\n",
       " '/game/8889690',\n",
       " '/game/8889662',\n",
       " '/game/8889624',\n",
       " '/game/8887674',\n",
       " '/game/8887645',\n",
       " '/game/8887609']"
      ]
     },
     "execution_count": 7,
     "metadata": {},
     "output_type": "execute_result"
    }
   ],
   "source": [
    "urls = [x.get('href') for x in soup.find('table').find_all('a', attrs = {'class':'btn'}, recursive = True)]\n",
    "urls"
   ]
  },
  {
   "cell_type": "code",
   "execution_count": null,
   "metadata": {},
   "outputs": [
    {
     "data": {
      "text/plain": [
       "[datetime.datetime(2023, 8, 14, 0, 32, 27),\n",
       " datetime.datetime(2023, 8, 14, 0, 15, 36),\n",
       " datetime.datetime(2023, 8, 14, 0, 2, 27),\n",
       " datetime.datetime(2023, 8, 14, 23, 44, 34),\n",
       " datetime.datetime(2023, 8, 14, 23, 27, 45),\n",
       " datetime.datetime(2023, 8, 14, 23, 10, 20),\n",
       " datetime.datetime(2023, 8, 14, 22, 49, 34),\n",
       " datetime.datetime(2023, 8, 14, 22, 31, 49),\n",
       " datetime.datetime(2023, 8, 14, 22, 19, 18),\n",
       " datetime.datetime(2023, 8, 12, 23, 53, 54),\n",
       " datetime.datetime(2023, 8, 12, 23, 39, 16),\n",
       " datetime.datetime(2023, 8, 12, 23, 20, 17),\n",
       " datetime.datetime(2023, 8, 12, 23, 2, 45),\n",
       " datetime.datetime(2023, 8, 12, 22, 48, 1),\n",
       " datetime.datetime(2023, 8, 12, 22, 30, 11),\n",
       " datetime.datetime(2023, 8, 12, 22, 10, 55),\n",
       " datetime.datetime(2023, 8, 12, 21, 46, 57),\n",
       " datetime.datetime(2023, 8, 11, 23, 49, 15),\n",
       " datetime.datetime(2023, 8, 11, 23, 38, 53),\n",
       " datetime.datetime(2023, 8, 11, 23, 23, 36)]"
      ]
     },
     "execution_count": 8,
     "metadata": {},
     "output_type": "execute_result"
    }
   ],
   "source": [
    "dates = [parser.parse(x.text) for x in soup.find_all('span', attrs = {'class':'abstime'})]\n",
    "dates"
   ]
  },
  {
   "cell_type": "code",
   "execution_count": null,
   "metadata": {},
   "outputs": [
    {
     "data": {
      "text/plain": [
       "'/games?server_id=5935&start_game_id=8887608'"
      ]
     },
     "execution_count": 22,
     "metadata": {},
     "output_type": "execute_result"
    }
   ],
   "source": [
    "next_btn = soup.find('a', attrs = {\"name\": \"Next Page\"}).get('href')\n",
    "next_btn"
   ]
  },
  {
   "cell_type": "code",
   "execution_count": null,
   "metadata": {},
   "outputs": [],
   "source": []
  }
 ],
 "metadata": {
  "kernelspec": {
   "display_name": "Python 3.11.3 ('torchnew')",
   "language": "python",
   "name": "python3"
  },
  "language_info": {
   "codemirror_mode": {
    "name": "ipython",
    "version": 3
   },
   "file_extension": ".py",
   "mimetype": "text/x-python",
   "name": "python",
   "nbconvert_exporter": "python",
   "pygments_lexer": "ipython3",
   "version": "3.11.3"
  },
  "orig_nbformat": 4,
  "vscode": {
   "interpreter": {
    "hash": "aae2c75324e7fdf5ebd22146e2daffaa477f8ea149f0e685be4c317c2939a685"
   }
  }
 },
 "nbformat": 4,
 "nbformat_minor": 2
}
