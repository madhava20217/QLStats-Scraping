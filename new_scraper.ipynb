{
 "cells": [
  {
   "cell_type": "code",
   "execution_count": 1,
   "metadata": {},
   "outputs": [],
   "source": [
    "import selenium\n",
    "from selenium import webdriver\n",
    "from selenium.webdriver.common.by import By\n",
    "\n",
    "import bs4\n",
    "import re\n",
    "\n",
    "import pandas as pd\n",
    "from dateutil import parser"
   ]
  },
  {
   "cell_type": "code",
   "execution_count": 2,
   "metadata": {},
   "outputs": [],
   "source": [
    "options = webdriver.EdgeOptions()\n",
    "# options.add_argument('headless')\n",
    "options.add_argument('inprivate')\n",
    "driver = webdriver.Edge(options= options)"
   ]
  },
  {
   "cell_type": "code",
   "execution_count": 3,
   "metadata": {},
   "outputs": [],
   "source": [
    "driver.get('https://qlstats.net/games?server_id=5935')"
   ]
  },
  {
   "cell_type": "markdown",
   "metadata": {},
   "source": [
    "### Bypass cookie screen"
   ]
  },
  {
   "cell_type": "code",
   "execution_count": 4,
   "metadata": {},
   "outputs": [],
   "source": [
    "def is_cookie_screen(driver : selenium.webdriver):\n",
    "    '''A function to check if the given webpage is the 'accept cookies' screen.\n",
    "    Regex matches the body of the '''\n",
    "    element = driver.find_element(By.TAG_NAME, value = 'body')\n",
    "    cookie_screen = re.compile(r'.*(To continue using qlstats, you need to agree to the use of cookies.\\nAgree).*')\n",
    "    if cookie_screen.search(element.text) is None:\n",
    "        return False\n",
    "    return True\n",
    "#press the button\n",
    "\n",
    "\n",
    "if is_cookie_screen(driver):\n",
    "    try:\n",
    "        button = driver.find_element(By.TAG_NAME, 'button')\n",
    "        button.click()\n",
    "    except:\n",
    "        \"Cookies could not be accepted, please recheck\""
   ]
  },
  {
   "cell_type": "markdown",
   "metadata": {},
   "source": [
    "### Scrape server match info"
   ]
  },
  {
   "cell_type": "code",
   "execution_count": 5,
   "metadata": {},
   "outputs": [],
   "source": [
    "soup = bs4.BeautifulSoup(driver.page_source)"
   ]
  },
  {
   "cell_type": "code",
   "execution_count": 12,
   "metadata": {},
   "outputs": [],
   "source": [
    "table = soup.find('table', attrs = {'class': 'table table-hover table-condensed'})"
   ]
  },
  {
   "cell_type": "code",
   "execution_count": 46,
   "metadata": {},
   "outputs": [],
   "source": [
    "scraped = []\n",
    "\n",
    "header = table.find('thead')\n",
    "#find columns in head\n",
    "head = []\n",
    "for col in header.findAll('th'):\n",
    "    head.append(col.text)\n",
    "\n",
    "# find indices of '', 'type', 'map', 'score', 'rated'\n",
    "search_indices = [head.index(x) for x in ['', 'Time', 'Type', 'Map', 'Score', 'Rated']]\n",
    "search_key_vals = dict(zip(search_indices, ['', 'Time', 'Type', 'Map', 'Score', 'Rated']))\n",
    "\n",
    "content = table.find('tbody')\n",
    "for row in content.findAll('tr'):\n",
    "    tr_info = []\n",
    "    all_content = row.findAll('td')\n",
    "    for idx in search_indices:\n",
    "        element = all_content[idx]\n",
    "    \n",
    "        if search_key_vals[idx] == '':\n",
    "            # view button\n",
    "            tr_info.append(element.find('a').get('href'))\n",
    "        \n",
    "        elif search_key_vals[idx] == 'Time':\n",
    "            tr_info.append(parser.parse(element.find('span', attrs = {'class':'abstime'}).text))\n",
    "\n",
    "        elif search_key_vals[idx] in ['Type', 'Map', 'Score', 'Rated']:\n",
    "            # other columns\n",
    "            tr_info.append(element.text.strip())\n",
    "\n",
    "    #append to scraped\n",
    "    scraped.append(tr_info)\n",
    "        \n",
    "            "
   ]
  },
  {
   "cell_type": "code",
   "execution_count": 47,
   "metadata": {},
   "outputs": [
    {
     "data": {
      "text/plain": [
       "[['/game/8892316',\n",
       "  datetime.datetime(2023, 8, 14, 0, 32, 27),\n",
       "  'ca',\n",
       "  'eviscerated',\n",
       "  '10:9',\n",
       "  'A'],\n",
       " ['/game/8892261',\n",
       "  datetime.datetime(2023, 8, 14, 0, 15, 36),\n",
       "  'ca',\n",
       "  'hearth',\n",
       "  '10:6',\n",
       "  'A'],\n",
       " ['/game/8892223',\n",
       "  datetime.datetime(2023, 8, 14, 0, 2, 27),\n",
       "  'ca',\n",
       "  'asylum',\n",
       "  '9:10',\n",
       "  'A'],\n",
       " ['/game/8892179',\n",
       "  datetime.datetime(2023, 8, 14, 23, 44, 34),\n",
       "  'ca',\n",
       "  'overek',\n",
       "  '10:5',\n",
       "  'A'],\n",
       " ['/game/8892128',\n",
       "  datetime.datetime(2023, 8, 14, 23, 27, 45),\n",
       "  'ca',\n",
       "  'quarantine',\n",
       "  '10:7',\n",
       "  'A'],\n",
       " ['/game/8892086',\n",
       "  datetime.datetime(2023, 8, 14, 23, 10, 20),\n",
       "  'ca',\n",
       "  'trinity',\n",
       "  '8:10',\n",
       "  'A'],\n",
       " ['/game/8892043',\n",
       "  datetime.datetime(2023, 8, 14, 22, 49, 34),\n",
       "  'ca',\n",
       "  'almostlost',\n",
       "  '10:8',\n",
       "  'A'],\n",
       " ['/game/8892011',\n",
       "  datetime.datetime(2023, 8, 14, 22, 31, 49),\n",
       "  'ca',\n",
       "  'campgrounds',\n",
       "  '10:1',\n",
       "  'A'],\n",
       " ['/game/8891984',\n",
       "  datetime.datetime(2023, 8, 14, 22, 19, 18),\n",
       "  'ca',\n",
       "  'asylum',\n",
       "  '10:6',\n",
       "  'A'],\n",
       " ['/game/8889851',\n",
       "  datetime.datetime(2023, 8, 12, 23, 53, 54),\n",
       "  'ca',\n",
       "  'campgrounds',\n",
       "  '10:5',\n",
       "  'A'],\n",
       " ['/game/8889819',\n",
       "  datetime.datetime(2023, 8, 12, 23, 39, 16),\n",
       "  'ca',\n",
       "  'overek',\n",
       "  '9:10',\n",
       "  'A'],\n",
       " ['/game/8889786',\n",
       "  datetime.datetime(2023, 8, 12, 23, 20, 17),\n",
       "  'ca',\n",
       "  'almostlost',\n",
       "  '10:8',\n",
       "  'A'],\n",
       " ['/game/8889753',\n",
       "  datetime.datetime(2023, 8, 12, 23, 2, 45),\n",
       "  'ca',\n",
       "  'quarantine',\n",
       "  '4:10',\n",
       "  'A'],\n",
       " ['/game/8889728',\n",
       "  datetime.datetime(2023, 8, 12, 22, 48, 1),\n",
       "  'ca',\n",
       "  'trinity',\n",
       "  '7:10',\n",
       "  'A'],\n",
       " ['/game/8889690',\n",
       "  datetime.datetime(2023, 8, 12, 22, 30, 11),\n",
       "  'ca',\n",
       "  'campgrounds',\n",
       "  '10:9',\n",
       "  'A'],\n",
       " ['/game/8889662',\n",
       "  datetime.datetime(2023, 8, 12, 22, 10, 55),\n",
       "  'ca',\n",
       "  'deadandgone',\n",
       "  '10:4',\n",
       "  'B'],\n",
       " ['/game/8889624',\n",
       "  datetime.datetime(2023, 8, 12, 21, 46, 57),\n",
       "  'ffa',\n",
       "  'railyard',\n",
       "  '50:29',\n",
       "  'B'],\n",
       " ['/game/8887674',\n",
       "  datetime.datetime(2023, 8, 11, 23, 49, 15),\n",
       "  'ca',\n",
       "  'hearth',\n",
       "  '10:4',\n",
       "  'A'],\n",
       " ['/game/8887645',\n",
       "  datetime.datetime(2023, 8, 11, 23, 38, 53),\n",
       "  'ca',\n",
       "  'asylum',\n",
       "  '10:9',\n",
       "  'B'],\n",
       " ['/game/8887609',\n",
       "  datetime.datetime(2023, 8, 11, 23, 23, 36),\n",
       "  'ca',\n",
       "  'campgrounds',\n",
       "  '7:10',\n",
       "  'A']]"
      ]
     },
     "execution_count": 47,
     "metadata": {},
     "output_type": "execute_result"
    }
   ],
   "source": [
    "scraped"
   ]
  },
  {
   "cell_type": "markdown",
   "metadata": {},
   "source": [
    "## Testing"
   ]
  },
  {
   "cell_type": "code",
   "execution_count": 7,
   "metadata": {},
   "outputs": [
    {
     "data": {
      "text/plain": [
       "['/game/8892316',\n",
       " '/game/8892261',\n",
       " '/game/8892223',\n",
       " '/game/8892179',\n",
       " '/game/8892128',\n",
       " '/game/8892086',\n",
       " '/game/8892043',\n",
       " '/game/8892011',\n",
       " '/game/8891984',\n",
       " '/game/8889851',\n",
       " '/game/8889819',\n",
       " '/game/8889786',\n",
       " '/game/8889753',\n",
       " '/game/8889728',\n",
       " '/game/8889690',\n",
       " '/game/8889662',\n",
       " '/game/8889624',\n",
       " '/game/8887674',\n",
       " '/game/8887645',\n",
       " '/game/8887609']"
      ]
     },
     "execution_count": 7,
     "metadata": {},
     "output_type": "execute_result"
    }
   ],
   "source": [
    "urls = [x.get('href') for x in soup.find('table').find_all('a', attrs = {'class':'btn'}, recursive = True)]\n",
    "urls"
   ]
  },
  {
   "cell_type": "code",
   "execution_count": 8,
   "metadata": {},
   "outputs": [
    {
     "data": {
      "text/plain": [
       "[datetime.datetime(2023, 8, 14, 0, 32, 27),\n",
       " datetime.datetime(2023, 8, 14, 0, 15, 36),\n",
       " datetime.datetime(2023, 8, 14, 0, 2, 27),\n",
       " datetime.datetime(2023, 8, 14, 23, 44, 34),\n",
       " datetime.datetime(2023, 8, 14, 23, 27, 45),\n",
       " datetime.datetime(2023, 8, 14, 23, 10, 20),\n",
       " datetime.datetime(2023, 8, 14, 22, 49, 34),\n",
       " datetime.datetime(2023, 8, 14, 22, 31, 49),\n",
       " datetime.datetime(2023, 8, 14, 22, 19, 18),\n",
       " datetime.datetime(2023, 8, 12, 23, 53, 54),\n",
       " datetime.datetime(2023, 8, 12, 23, 39, 16),\n",
       " datetime.datetime(2023, 8, 12, 23, 20, 17),\n",
       " datetime.datetime(2023, 8, 12, 23, 2, 45),\n",
       " datetime.datetime(2023, 8, 12, 22, 48, 1),\n",
       " datetime.datetime(2023, 8, 12, 22, 30, 11),\n",
       " datetime.datetime(2023, 8, 12, 22, 10, 55),\n",
       " datetime.datetime(2023, 8, 12, 21, 46, 57),\n",
       " datetime.datetime(2023, 8, 11, 23, 49, 15),\n",
       " datetime.datetime(2023, 8, 11, 23, 38, 53),\n",
       " datetime.datetime(2023, 8, 11, 23, 23, 36)]"
      ]
     },
     "execution_count": 8,
     "metadata": {},
     "output_type": "execute_result"
    }
   ],
   "source": [
    "dates = [parser.parse(x.text) for x in soup.find_all('span', attrs = {'class':'abstime'})]\n",
    "dates"
   ]
  },
  {
   "cell_type": "code",
   "execution_count": 9,
   "metadata": {},
   "outputs": [
    {
     "data": {
      "text/plain": [
       "'/games?server_id=5935&start_game_id=8887608'"
      ]
     },
     "execution_count": 9,
     "metadata": {},
     "output_type": "execute_result"
    }
   ],
   "source": [
    "next_btn = soup.find('a', attrs = {\"name\": \"Next Page\"}).get('href')"
   ]
  }
 ],
 "metadata": {
  "kernelspec": {
   "display_name": "Python 3.11.3 ('torchnew')",
   "language": "python",
   "name": "python3"
  },
  "language_info": {
   "codemirror_mode": {
    "name": "ipython",
    "version": 3
   },
   "file_extension": ".py",
   "mimetype": "text/x-python",
   "name": "python",
   "nbconvert_exporter": "python",
   "pygments_lexer": "ipython3",
   "version": "3.11.3"
  },
  "orig_nbformat": 4,
  "vscode": {
   "interpreter": {
    "hash": "aae2c75324e7fdf5ebd22146e2daffaa477f8ea149f0e685be4c317c2939a685"
   }
  }
 },
 "nbformat": 4,
 "nbformat_minor": 2
}
