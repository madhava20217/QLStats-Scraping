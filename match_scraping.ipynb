{
 "cells": [
  {
   "cell_type": "markdown",
   "metadata": {},
   "source": [
    "# Scrape a particular match's information from a particular URL"
   ]
  },
  {
   "cell_type": "code",
   "execution_count": 1,
   "metadata": {},
   "outputs": [],
   "source": [
    "import selenium\n",
    "from selenium import webdriver\n",
    "from selenium.webdriver.common.by import By\n",
    "\n",
    "from bs4 import BeautifulSoup\n",
    "import re\n",
    "\n",
    "import pandas as pd"
   ]
  },
  {
   "cell_type": "code",
   "execution_count": 2,
   "metadata": {},
   "outputs": [],
   "source": [
    "options = webdriver.EdgeOptions()\n",
    "# options.add_argument('headless')\n",
    "options.add_argument('inprivate')\n",
    "driver = webdriver.Edge(options= options)"
   ]
  },
  {
   "cell_type": "code",
   "execution_count": 74,
   "metadata": {},
   "outputs": [],
   "source": [
    "# https://qlstats.net/game/8489604  # game with multiple particpants of the same name\n",
    "driver.get('https://qlstats.net/game/8476678')      # regular CA game\n",
    "\n",
    "driver.get('https://qlstats.net/game/8489604')      # duplicate participants\n",
    "\n",
    "#driver.get('https://qlstats.net/game/330187')       # duel"
   ]
  },
  {
   "cell_type": "markdown",
   "metadata": {},
   "source": [
    "## Cookie screen"
   ]
  },
  {
   "cell_type": "code",
   "execution_count": 4,
   "metadata": {},
   "outputs": [],
   "source": [
    "def is_cookie_screen(driver : selenium.webdriver):\n",
    "    '''A function to check if the given webpage is the 'accept cookies' screen.\n",
    "    Regex matches the body of the '''\n",
    "    element = driver.find_element(By.TAG_NAME, value = 'body')\n",
    "    cookie_screen = re.compile(r'.*(To continue using qlstats, you need to agree to the use of cookies.\\nAgree).*')\n",
    "    if cookie_screen.search(element.text) is None:\n",
    "        return False\n",
    "    return True\n"
   ]
  },
  {
   "cell_type": "code",
   "execution_count": 5,
   "metadata": {},
   "outputs": [],
   "source": [
    "#press the button\n",
    "if is_cookie_screen(driver):\n",
    "    try:\n",
    "        button = driver.find_element(By.TAG_NAME, 'button')\n",
    "        button.click()\n",
    "    except:\n",
    "        \"Cookies could not be accepted, please recheck\""
   ]
  },
  {
   "cell_type": "markdown",
   "metadata": {},
   "source": [
    "## Scrape\n",
    "\n",
    "For match data, the winning team's table occurs first. Therefore, while pandas' read_html works pretty well, it cannot determine which is the winning/losing team.\n",
    "\n",
    "We need to parse the information using the divs surrounding the table.\n",
    "\n",
    "The winning team's information isn't shown in game modes like duel. The accuracy and match data table isn't shown in case of old duels."
   ]
  },
  {
   "cell_type": "markdown",
   "metadata": {},
   "source": [
    "### RegEx"
   ]
  },
  {
   "cell_type": "code",
   "execution_count": 75,
   "metadata": {},
   "outputs": [],
   "source": [
    "match_details_finder = re.compile(r\"Played: (.*) Game Type: (.*) Server: (.*) Map: (.*) Duration: (.*) Rating Status: (.*)\")"
   ]
  },
  {
   "cell_type": "markdown",
   "metadata": {},
   "source": [
    "### Soup"
   ]
  },
  {
   "cell_type": "code",
   "execution_count": 76,
   "metadata": {},
   "outputs": [],
   "source": [
    "soup = BeautifulSoup(driver.page_source, 'lxml')"
   ]
  },
  {
   "cell_type": "code",
   "execution_count": 77,
   "metadata": {},
   "outputs": [
    {
     "data": {
      "text/plain": [
       "\"Played: 2023-01-09 20:54:10 Game Type: Clan Arena (ca) Server: (India+Singapore+UAE) Topgun's CA Server w/crouchslide Map: thunderstruck Duration: 6:15 Rating Status: Not rated (not enough qualifying players)\""
      ]
     },
     "execution_count": 77,
     "metadata": {},
     "output_type": "execute_result"
    }
   ],
   "source": [
    "match_text = \" \".join(soup.find('p').text.split())\n",
    "#match_text = [x.strip() for x in match_text if x.strip() != '']\n",
    "match_text"
   ]
  },
  {
   "cell_type": "code",
   "execution_count": 78,
   "metadata": {},
   "outputs": [
    {
     "data": {
      "text/plain": [
       "('2023-01-09 20:54:10',\n",
       " 'Clan Arena (ca)',\n",
       " \"(India+Singapore+UAE) Topgun's CA Server w/crouchslide\",\n",
       " 'thunderstruck',\n",
       " '6:15',\n",
       " 'Not rated (not enough qualifying players)')"
      ]
     },
     "execution_count": 78,
     "metadata": {},
     "output_type": "execute_result"
    }
   ],
   "source": [
    "# time of the match, gametype, server, map, duration, if rated\n",
    "match_details = match_details_finder.match(match_text).groups()\n",
    "match_details"
   ]
  },
  {
   "cell_type": "code",
   "execution_count": 79,
   "metadata": {},
   "outputs": [
    {
     "data": {
      "text/plain": [
       "'Red'"
      ]
     },
     "execution_count": 79,
     "metadata": {},
     "output_type": "execute_result"
    }
   ],
   "source": [
    "# in case it's a team-based game...\n",
    "winner = soup.find('div', {'class' : 'teamname'}).text\n",
    "winner = [x.strip() for x in winner.split('\\n') if x.strip() != '']\n",
    "winner = winner[0]\n",
    "winner"
   ]
  },
  {
   "cell_type": "markdown",
   "metadata": {},
   "source": [
    "### Winning team"
   ]
  },
  {
   "cell_type": "code",
   "execution_count": 80,
   "metadata": {},
   "outputs": [
    {
     "data": {
      "text/html": [
       "<div>\n",
       "<style scoped>\n",
       "    .dataframe tbody tr th:only-of-type {\n",
       "        vertical-align: middle;\n",
       "    }\n",
       "\n",
       "    .dataframe tbody tr th {\n",
       "        vertical-align: top;\n",
       "    }\n",
       "\n",
       "    .dataframe thead th {\n",
       "        text-align: right;\n",
       "    }\n",
       "</style>\n",
       "<table border=\"1\" class=\"dataframe\">\n",
       "  <thead>\n",
       "    <tr style=\"text-align: right;\">\n",
       "      <th></th>\n",
       "      <th>Nick</th>\n",
       "      <th>Time</th>\n",
       "      <th>Rounds</th>\n",
       "      <th>Kills</th>\n",
       "      <th>Deaths</th>\n",
       "      <th>Damage Dealt</th>\n",
       "      <th>Damage Taken</th>\n",
       "      <th>Score</th>\n",
       "      <th>Perf</th>\n",
       "      <th>Old Glicko</th>\n",
       "      <th>Glicko Change</th>\n",
       "    </tr>\n",
       "  </thead>\n",
       "  <tbody>\n",
       "    <tr>\n",
       "      <th>0</th>\n",
       "      <td>HYDRAZINE</td>\n",
       "      <td>0:06:15</td>\n",
       "      <td>16</td>\n",
       "      <td>9</td>\n",
       "      <td>7</td>\n",
       "      <td>4752</td>\n",
       "      <td>4292</td>\n",
       "      <td>55</td>\n",
       "      <td>NaN</td>\n",
       "      <td>NaN</td>\n",
       "      <td>NaN</td>\n",
       "    </tr>\n",
       "    <tr>\n",
       "      <th>1</th>\n",
       "      <td>(2) Theatricality</td>\n",
       "      <td>0:03:19</td>\n",
       "      <td>9</td>\n",
       "      <td>11</td>\n",
       "      <td>2</td>\n",
       "      <td>2818</td>\n",
       "      <td>2306</td>\n",
       "      <td>35</td>\n",
       "      <td>NaN</td>\n",
       "      <td>NaN</td>\n",
       "      <td>NaN</td>\n",
       "    </tr>\n",
       "    <tr>\n",
       "      <th>2</th>\n",
       "      <td>Theatricality</td>\n",
       "      <td>0:02:56</td>\n",
       "      <td>7</td>\n",
       "      <td>2</td>\n",
       "      <td>5</td>\n",
       "      <td>1322</td>\n",
       "      <td>1757</td>\n",
       "      <td>14</td>\n",
       "      <td>NaN</td>\n",
       "      <td>NaN</td>\n",
       "      <td>NaN</td>\n",
       "    </tr>\n",
       "  </tbody>\n",
       "</table>\n",
       "</div>"
      ],
      "text/plain": [
       "                Nick     Time  Rounds  Kills  Deaths  Damage Dealt  \\\n",
       "0          HYDRAZINE  0:06:15      16      9       7          4752   \n",
       "1  (2) Theatricality  0:03:19       9     11       2          2818   \n",
       "2      Theatricality  0:02:56       7      2       5          1322   \n",
       "\n",
       "   Damage Taken  Score  Perf  Old Glicko  Glicko Change  \n",
       "0          4292     55   NaN         NaN            NaN  \n",
       "1          2306     35   NaN         NaN            NaN  \n",
       "2          1757     14   NaN         NaN            NaN  "
      ]
     },
     "execution_count": 80,
     "metadata": {},
     "output_type": "execute_result"
    }
   ],
   "source": [
    "winner_team = pd.read_html(driver.current_url)[0]\n",
    "winner_team"
   ]
  },
  {
   "cell_type": "markdown",
   "metadata": {},
   "source": [
    "### Losing team"
   ]
  },
  {
   "cell_type": "code",
   "execution_count": 81,
   "metadata": {},
   "outputs": [
    {
     "data": {
      "text/html": [
       "<div>\n",
       "<style scoped>\n",
       "    .dataframe tbody tr th:only-of-type {\n",
       "        vertical-align: middle;\n",
       "    }\n",
       "\n",
       "    .dataframe tbody tr th {\n",
       "        vertical-align: top;\n",
       "    }\n",
       "\n",
       "    .dataframe thead th {\n",
       "        text-align: right;\n",
       "    }\n",
       "</style>\n",
       "<table border=\"1\" class=\"dataframe\">\n",
       "  <thead>\n",
       "    <tr style=\"text-align: right;\">\n",
       "      <th></th>\n",
       "      <th>Nick</th>\n",
       "      <th>Time</th>\n",
       "      <th>Rounds</th>\n",
       "      <th>Kills</th>\n",
       "      <th>Deaths</th>\n",
       "      <th>Damage Dealt</th>\n",
       "      <th>Damage Taken</th>\n",
       "      <th>Score</th>\n",
       "      <th>Perf</th>\n",
       "      <th>Old Glicko</th>\n",
       "      <th>Glicko Change</th>\n",
       "    </tr>\n",
       "  </thead>\n",
       "  <tbody>\n",
       "    <tr>\n",
       "      <th>0</th>\n",
       "      <td>A S U R A</td>\n",
       "      <td>0:06:15</td>\n",
       "      <td>16</td>\n",
       "      <td>5</td>\n",
       "      <td>12</td>\n",
       "      <td>3573</td>\n",
       "      <td>4271</td>\n",
       "      <td>40</td>\n",
       "      <td>NaN</td>\n",
       "      <td>NaN</td>\n",
       "      <td>NaN</td>\n",
       "    </tr>\n",
       "    <tr>\n",
       "      <th>1</th>\n",
       "      <td>(2) Theatricality</td>\n",
       "      <td>0:02:56</td>\n",
       "      <td>7</td>\n",
       "      <td>6</td>\n",
       "      <td>3</td>\n",
       "      <td>2463</td>\n",
       "      <td>1634</td>\n",
       "      <td>30</td>\n",
       "      <td>NaN</td>\n",
       "      <td>NaN</td>\n",
       "      <td>NaN</td>\n",
       "    </tr>\n",
       "    <tr>\n",
       "      <th>2</th>\n",
       "      <td>Theatricality</td>\n",
       "      <td>0:03:19</td>\n",
       "      <td>9</td>\n",
       "      <td>3</td>\n",
       "      <td>7</td>\n",
       "      <td>2501</td>\n",
       "      <td>2521</td>\n",
       "      <td>26</td>\n",
       "      <td>NaN</td>\n",
       "      <td>NaN</td>\n",
       "      <td>NaN</td>\n",
       "    </tr>\n",
       "  </tbody>\n",
       "</table>\n",
       "</div>"
      ],
      "text/plain": [
       "                Nick     Time  Rounds  Kills  Deaths  Damage Dealt  \\\n",
       "0          A S U R A  0:06:15      16      5      12          3573   \n",
       "1  (2) Theatricality  0:02:56       7      6       3          2463   \n",
       "2      Theatricality  0:03:19       9      3       7          2501   \n",
       "\n",
       "   Damage Taken  Score  Perf  Old Glicko  Glicko Change  \n",
       "0          4271     40   NaN         NaN            NaN  \n",
       "1          1634     30   NaN         NaN            NaN  \n",
       "2          2521     26   NaN         NaN            NaN  "
      ]
     },
     "execution_count": 81,
     "metadata": {},
     "output_type": "execute_result"
    }
   ],
   "source": [
    "loser_team = pd.read_html(driver.current_url)[1]\n",
    "loser_team"
   ]
  },
  {
   "cell_type": "markdown",
   "metadata": {},
   "source": [
    "### Accuracy and weapons stats"
   ]
  },
  {
   "cell_type": "markdown",
   "metadata": {},
   "source": [
    "You want to extract accuracy, kills, hits and shots.\n",
    "\n",
    "The overall tab is just a bad summary of everything, might as well ignore it."
   ]
  },
  {
   "cell_type": "code",
   "execution_count": 82,
   "metadata": {},
   "outputs": [],
   "source": [
    "to_extract = ['acc', 'kills', 'hits', 'shots']"
   ]
  },
  {
   "cell_type": "code",
   "execution_count": 91,
   "metadata": {},
   "outputs": [],
   "source": [
    "btn = driver.find_element(By.CSS_SELECTOR, 'h3[data-info=\"{}\"]'.format('all'))\n",
    "btn.click()"
   ]
  },
  {
   "cell_type": "code",
   "execution_count": 92,
   "metadata": {},
   "outputs": [
    {
     "name": "stdout",
     "output_type": "stream",
     "text": [
      "/player/312322 HYDRAZINE\n",
      "Kills / AccHits / Shots\n",
      "CHEE\n",
      "1 / 31%31 / 100\n",
      "CHEE\n",
      "0 / 78%14 / 18\n",
      "CHEE\n",
      "4 / 42%605 / 1446\n",
      "CHEE\n",
      "4 / 31%4 / 13\n",
      "CHEE\n",
      "/player/63562 A S U R A\n",
      "Kills / AccHits / Shots\n",
      "CHEE\n",
      "0 / 22%13 / 60\n",
      "CHEE\n",
      "1 / 62%43 / 69\n",
      "CHEE\n",
      "4 / 32%161 / 509\n",
      "CHEE\n",
      "0 / 50%7 / 14\n",
      "CHEE\n",
      "/player/284886 (2) Theatricality\n",
      "Kills / AccHits / Shots\n",
      "CHEE\n",
      "8 / 48%190 / 400\n",
      "CHEE\n",
      "0 / 71%40 / 56\n",
      "CHEE\n",
      "12 / 43%882 / 2062\n",
      "CHEE\n",
      "14 / 44%22 / 50\n",
      "CHEE\n",
      "/player/149897 Theatricality\n",
      "Kills / AccHits / Shots\n",
      "CHEE\n",
      "0 / 40%16 / 40\n",
      "CHEE\n",
      "0 / 67%58 / 86\n",
      "CHEE\n",
      "2 / 36%256 / 706\n",
      "CHEE\n",
      "8 / 40%32 / 80\n",
      "CHEE\n"
     ]
    }
   ],
   "source": [
    "player_info = {}\n",
    "\n",
    "acc_table = soup.find('table', attrs = {'id':'accuracyTable'})\n",
    "for rows in acc_table.find_all('tr'):\n",
    "    for data in rows.find_all('td'):\n",
    "        link = data.find('a', href = True)\n",
    "        if(link != None):\n",
    "            href = link['href']\n",
    "            player_name = link.text\n",
    "            print(href, player_name)\n",
    "            player_info[player_name] = href\n",
    "            continue\n",
    "        print(data.text)\n",
    "        #print(data)\n",
    "        print(\"CHEE\")"
   ]
  },
  {
   "cell_type": "code",
   "execution_count": 85,
   "metadata": {},
   "outputs": [
    {
     "name": "stdout",
     "output_type": "stream",
     "text": [
      "**\n",
      "* SG*\n",
      "* RL*\n",
      "* LG*\n",
      "* RG*\n"
     ]
    },
    {
     "data": {
      "text/plain": [
       "['PlayerName', 'SG', 'RL', 'LG', 'RG']"
      ]
     },
     "execution_count": 85,
     "metadata": {},
     "output_type": "execute_result"
    }
   ],
   "source": [
    "#find weapons and column names\n",
    "\n",
    "columns = ['PlayerName']\n",
    "for header in soup.find('table', attrs = {'id':'accuracyTable'}).find_all('th'):\n",
    "    print('*'+header.text+'*')\n",
    "    if(header.text != ''): columns.append(header.text.strip())\n",
    "columns"
   ]
  },
  {
   "cell_type": "code",
   "execution_count": 86,
   "metadata": {},
   "outputs": [
    {
     "data": {
      "text/plain": [
       "[          Unnamed: 0  Unnamed: 1  SG  RL  LG  RG\n",
       " 0          HYDRAZINE         NaN NaN NaN NaN NaN\n",
       " 1          A S U R A         NaN NaN NaN NaN NaN\n",
       " 2  (2) Theatricality         NaN NaN NaN NaN NaN\n",
       " 3      Theatricality         NaN NaN NaN NaN NaN]"
      ]
     },
     "execution_count": 86,
     "metadata": {},
     "output_type": "execute_result"
    }
   ],
   "source": [
    "pd.read_html(driver.current_url, attrs = {'id':'accuracyTable'}, flavor = 'lxml')"
   ]
  },
  {
   "cell_type": "code",
   "execution_count": 87,
   "metadata": {},
   "outputs": [
    {
     "data": {
      "text/plain": [
       "[           Nick     Time  Kills  Deaths  Damage Dealt  Damage Taken  Score  \\\n",
       " 0  =*=Topgun=*=  0:10:37      2       1          2516          2618      2   \n",
       " 1         Kursi  0:10:37      1       2          2518          2513      1   \n",
       " \n",
       "    Perf  Old Glicko Glicko Change  \n",
       " 0     1  1469 ± 318     +26 / -22  \n",
       " 1     0    945 ± 97       -4 / -1  ,\n",
       "      Unnamed: 0  Unnamed: 1  MG  SG  GL  RL  LG  RG  PG\n",
       " 0  =*=Topgun=*=         NaN NaN NaN NaN NaN NaN NaN NaN\n",
       " 1         Kursi         NaN NaN NaN NaN NaN NaN NaN NaN]"
      ]
     },
     "execution_count": 87,
     "metadata": {},
     "output_type": "execute_result"
    }
   ],
   "source": [
    "pd.read_html('https://qlstats.net/game/7830735')"
   ]
  }
 ],
 "metadata": {
  "kernelspec": {
   "display_name": "Python 3.10.0 ('ml')",
   "language": "python",
   "name": "python3"
  },
  "language_info": {
   "codemirror_mode": {
    "name": "ipython",
    "version": 3
   },
   "file_extension": ".py",
   "mimetype": "text/x-python",
   "name": "python",
   "nbconvert_exporter": "python",
   "pygments_lexer": "ipython3",
   "version": "3.10.0"
  },
  "orig_nbformat": 4,
  "vscode": {
   "interpreter": {
    "hash": "c58e9361bde7ca617934da376e83056db506761bdc9593ca2087fabac973f609"
   }
  }
 },
 "nbformat": 4,
 "nbformat_minor": 2
}
