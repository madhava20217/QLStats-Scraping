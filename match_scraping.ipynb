{
 "cells": [
  {
   "cell_type": "markdown",
   "metadata": {},
   "source": [
    "# Scrape a particular match's information from a particular URL"
   ]
  },
  {
   "cell_type": "code",
   "execution_count": 7,
   "metadata": {},
   "outputs": [],
   "source": [
    "import selenium\n",
    "from selenium import webdriver\n",
    "from selenium.webdriver.common.by import By\n",
    "\n",
    "from bs4 import BeautifulSoup\n",
    "import re\n",
    "\n",
    "import pandas as pd"
   ]
  },
  {
   "cell_type": "code",
   "execution_count": 2,
   "metadata": {},
   "outputs": [],
   "source": [
    "options = webdriver.EdgeOptions()\n",
    "# options.add_argument('headless')\n",
    "options.add_argument('inprivate')\n",
    "driver = webdriver.Edge(options= options)"
   ]
  },
  {
   "cell_type": "code",
   "execution_count": 3,
   "metadata": {},
   "outputs": [],
   "source": [
    "driver.get('https://qlstats.net/game/8476678')"
   ]
  },
  {
   "cell_type": "markdown",
   "metadata": {},
   "source": [
    "## Cookie screen"
   ]
  },
  {
   "cell_type": "code",
   "execution_count": 4,
   "metadata": {},
   "outputs": [],
   "source": [
    "def is_cookie_screen(driver : selenium.webdriver):\n",
    "    '''A function to check if the given webpage is the 'accept cookies' screen.\n",
    "    Regex matches the body of the '''\n",
    "    element = driver.find_element(By.TAG_NAME, value = 'body')\n",
    "    cookie_screen = re.compile(r'.*(To continue using qlstats, you need to agree to the use of cookies.\\nAgree).*')\n",
    "    if cookie_screen.search(element.text) is None:\n",
    "        return False\n",
    "    return True\n"
   ]
  },
  {
   "cell_type": "code",
   "execution_count": 5,
   "metadata": {},
   "outputs": [],
   "source": [
    "#press the button\n",
    "if is_cookie_screen(driver):\n",
    "    try:\n",
    "        button = driver.find_element(By.TAG_NAME, 'button')\n",
    "        button.click()\n",
    "    except:\n",
    "        \"Cookies could not be accepted, please recheck\""
   ]
  },
  {
   "cell_type": "markdown",
   "metadata": {},
   "source": [
    "## Scrape"
   ]
  },
  {
   "cell_type": "code",
   "execution_count": 10,
   "metadata": {},
   "outputs": [],
   "source": [
    "soup = BeautifulSoup(driver.page_source, 'lxml')"
   ]
  },
  {
   "cell_type": "markdown",
   "metadata": {},
   "source": [
    "### Blue team"
   ]
  },
  {
   "cell_type": "code",
   "execution_count": 18,
   "metadata": {},
   "outputs": [
    {
     "data": {
      "text/plain": [
       "<thead>\n",
       "<tr>\n",
       "<th class=\"nick\">Nick</th>\n",
       "<th class=\"time\">Time</th>\n",
       "<th class=\"time\">Rounds</th>\n",
       "<th class=\"kills\">Kills</th>\n",
       "<th class=\"deaths\">Deaths</th>\n",
       "<th class=\"kills\">Damage Dealt</th>\n",
       "<th class=\"deaths\">Damage Taken</th>\n",
       "<th class=\"score\">Score</th>\n",
       "<th class=\"score\" title=\"Performance metric for Glicko rating:\n",
       "scoreboard_score - 0.75*kills +10% for winner team\n",
       "[adjusted by rounds played]\">Perf</th>\n",
       "<th title=\"estimated rating ± uncertainty\" width=\"110\">Old Glicko</th>\n",
       "<th class=\"tdcenter\" title=\"estimated rating / uncertainty\" width=\"110\">Glicko Change</th>\n",
       "</tr>\n",
       "</thead>"
      ]
     },
     "execution_count": 18,
     "metadata": {},
     "output_type": "execute_result"
    }
   ],
   "source": [
    "soup.find_all('table')[0].find('thead')"
   ]
  },
  {
   "cell_type": "code",
   "execution_count": 6,
   "metadata": {},
   "outputs": [
    {
     "data": {
      "text/html": [
       "<div>\n",
       "<style scoped>\n",
       "    .dataframe tbody tr th:only-of-type {\n",
       "        vertical-align: middle;\n",
       "    }\n",
       "\n",
       "    .dataframe tbody tr th {\n",
       "        vertical-align: top;\n",
       "    }\n",
       "\n",
       "    .dataframe thead th {\n",
       "        text-align: right;\n",
       "    }\n",
       "</style>\n",
       "<table border=\"1\" class=\"dataframe\">\n",
       "  <thead>\n",
       "    <tr style=\"text-align: right;\">\n",
       "      <th></th>\n",
       "      <th>Nick</th>\n",
       "      <th>Time</th>\n",
       "      <th>Rounds</th>\n",
       "      <th>Kills</th>\n",
       "      <th>Deaths</th>\n",
       "      <th>Damage Dealt</th>\n",
       "      <th>Damage Taken</th>\n",
       "      <th>Score</th>\n",
       "      <th>Perf</th>\n",
       "      <th>Old Glicko</th>\n",
       "      <th>Glicko Change</th>\n",
       "    </tr>\n",
       "  </thead>\n",
       "  <tbody>\n",
       "    <tr>\n",
       "      <th>0</th>\n",
       "      <td>Addy</td>\n",
       "      <td>0:15:39</td>\n",
       "      <td>19</td>\n",
       "      <td>22</td>\n",
       "      <td>12</td>\n",
       "      <td>7230</td>\n",
       "      <td>4887</td>\n",
       "      <td>91</td>\n",
       "      <td>82</td>\n",
       "      <td>1369 ± 33</td>\n",
       "      <td>+7 / 0</td>\n",
       "    </tr>\n",
       "    <tr>\n",
       "      <th>1</th>\n",
       "      <td>WOLF</td>\n",
       "      <td>0:15:39</td>\n",
       "      <td>19</td>\n",
       "      <td>12</td>\n",
       "      <td>15</td>\n",
       "      <td>6149</td>\n",
       "      <td>5225</td>\n",
       "      <td>69</td>\n",
       "      <td>66</td>\n",
       "      <td>1219 ± 34</td>\n",
       "      <td>+9 / -1</td>\n",
       "    </tr>\n",
       "    <tr>\n",
       "      <th>2</th>\n",
       "      <td>=*=Topgun=*=</td>\n",
       "      <td>0:15:39</td>\n",
       "      <td>19</td>\n",
       "      <td>10</td>\n",
       "      <td>15</td>\n",
       "      <td>5263</td>\n",
       "      <td>5250</td>\n",
       "      <td>59</td>\n",
       "      <td>57</td>\n",
       "      <td>1236 ± 32</td>\n",
       "      <td>-4 / 0</td>\n",
       "    </tr>\n",
       "    <tr>\n",
       "      <th>3</th>\n",
       "      <td>roomi</td>\n",
       "      <td>0:15:39</td>\n",
       "      <td>19</td>\n",
       "      <td>13</td>\n",
       "      <td>13</td>\n",
       "      <td>4840</td>\n",
       "      <td>5258</td>\n",
       "      <td>58</td>\n",
       "      <td>53</td>\n",
       "      <td>918 ± 47</td>\n",
       "      <td>+4 / -1</td>\n",
       "    </tr>\n",
       "    <tr>\n",
       "      <th>4</th>\n",
       "      <td>Anonymous 1</td>\n",
       "      <td>0:15:39</td>\n",
       "      <td>19</td>\n",
       "      <td>13</td>\n",
       "      <td>12</td>\n",
       "      <td>4428</td>\n",
       "      <td>4828</td>\n",
       "      <td>53</td>\n",
       "      <td>48</td>\n",
       "      <td>691 ± 48</td>\n",
       "      <td>+3 / -1</td>\n",
       "    </tr>\n",
       "  </tbody>\n",
       "</table>\n",
       "</div>"
      ],
      "text/plain": [
       "           Nick     Time  Rounds  Kills  Deaths  Damage Dealt  Damage Taken  \\\n",
       "0          Addy  0:15:39      19     22      12          7230          4887   \n",
       "1          WOLF  0:15:39      19     12      15          6149          5225   \n",
       "2  =*=Topgun=*=  0:15:39      19     10      15          5263          5250   \n",
       "3         roomi  0:15:39      19     13      13          4840          5258   \n",
       "4   Anonymous 1  0:15:39      19     13      12          4428          4828   \n",
       "\n",
       "   Score  Perf Old Glicko Glicko Change  \n",
       "0     91    82  1369 ± 33        +7 / 0  \n",
       "1     69    66  1219 ± 34       +9 / -1  \n",
       "2     59    57  1236 ± 32        -4 / 0  \n",
       "3     58    53   918 ± 47       +4 / -1  \n",
       "4     53    48   691 ± 48       +3 / -1  "
      ]
     },
     "execution_count": 6,
     "metadata": {},
     "output_type": "execute_result"
    }
   ],
   "source": [
    "pd.read_html(driver.current_url)[0]"
   ]
  },
  {
   "cell_type": "code",
   "execution_count": null,
   "metadata": {},
   "outputs": [],
   "source": []
  },
  {
   "cell_type": "code",
   "execution_count": 7,
   "metadata": {},
   "outputs": [
    {
     "data": {
      "text/plain": [
       "[     Unnamed: 0  Unnamed: 1  SG  GL  RL  LG  RG  PG\n",
       " 0          Addy         NaN NaN NaN NaN NaN NaN NaN\n",
       " 1           FOG         NaN NaN NaN NaN NaN NaN NaN\n",
       " 2          WOLF         NaN NaN NaN NaN NaN NaN NaN\n",
       " 3      Samooker         NaN NaN NaN NaN NaN NaN NaN\n",
       " 4     A S U R A         NaN NaN NaN NaN NaN NaN NaN\n",
       " 5    ibu_hatela         NaN NaN NaN NaN NaN NaN NaN\n",
       " 6  =*=Topgun=*=         NaN NaN NaN NaN NaN NaN NaN\n",
       " 7         roomi         NaN NaN NaN NaN NaN NaN NaN\n",
       " 8   Anonymous 1         NaN NaN NaN NaN NaN NaN NaN\n",
       " 9   Anonymous 2         NaN NaN NaN NaN NaN NaN NaN]"
      ]
     },
     "execution_count": 7,
     "metadata": {},
     "output_type": "execute_result"
    }
   ],
   "source": [
    "pd.read_html(driver.current_url, attrs = {'id':'accuracyTable'}, flavor = 'html5lib')"
   ]
  }
 ],
 "metadata": {
  "kernelspec": {
   "display_name": "Python 3.10.0 ('ml')",
   "language": "python",
   "name": "python3"
  },
  "language_info": {
   "codemirror_mode": {
    "name": "ipython",
    "version": 3
   },
   "file_extension": ".py",
   "mimetype": "text/x-python",
   "name": "python",
   "nbconvert_exporter": "python",
   "pygments_lexer": "ipython3",
   "version": "3.10.0"
  },
  "orig_nbformat": 4,
  "vscode": {
   "interpreter": {
    "hash": "c58e9361bde7ca617934da376e83056db506761bdc9593ca2087fabac973f609"
   }
  }
 },
 "nbformat": 4,
 "nbformat_minor": 2
}
