{
 "cells": [
  {
   "cell_type": "code",
   "execution_count": 1,
   "metadata": {},
   "outputs": [],
   "source": [
    "import selenium\n",
    "from selenium import webdriver\n",
    "from selenium.webdriver.common.by import By\n",
    "\n",
    "import bs4\n",
    "import re\n",
    "\n",
    "import pandas as pd\n",
    "from dateutil import parser"
   ]
  },
  {
   "cell_type": "code",
   "execution_count": 2,
   "metadata": {},
   "outputs": [],
   "source": [
    "options = webdriver.EdgeOptions()\n",
    "# options.add_argument('headless')\n",
    "options.add_argument('inprivate')\n",
    "driver = webdriver.Edge(options= options)"
   ]
  },
  {
   "cell_type": "code",
   "execution_count": 3,
   "metadata": {},
   "outputs": [],
   "source": [
    "driver.get('https://qlstats.net/server/5935')"
   ]
  },
  {
   "cell_type": "code",
   "execution_count": 4,
   "metadata": {},
   "outputs": [],
   "source": [
    "def is_cookie_screen(driver : selenium.webdriver):\n",
    "    '''A function to check if the given webpage is the 'accept cookies' screen.\n",
    "    Regex matches the body of the '''\n",
    "    element = driver.find_element(By.TAG_NAME, value = 'body')\n",
    "    cookie_screen = re.compile(r'.*(To continue using qlstats, you need to agree to the use of cookies.\\nAgree).*')\n",
    "    if cookie_screen.search(element.text) is None:\n",
    "        return False\n",
    "    return True\n",
    "#press the button\n",
    "\n",
    "\n",
    "if is_cookie_screen(driver):\n",
    "    try:\n",
    "        button = driver.find_element(By.TAG_NAME, 'button')\n",
    "        button.click()\n",
    "    except:\n",
    "        \"Cookies could not be accepted, please recheck\""
   ]
  },
  {
   "cell_type": "code",
   "execution_count": 5,
   "metadata": {},
   "outputs": [],
   "source": [
    "soup = bs4.BeautifulSoup(driver.page_source)"
   ]
  },
  {
   "cell_type": "code",
   "execution_count": 6,
   "metadata": {},
   "outputs": [
    {
     "data": {
      "text/plain": [
       "'<tbody>\\n <tr>\\n  <td>\\n  </td>\\n  <td style=\"overflow-x:hidden;white-space:nowrap\">\\n  </td>\\n  <td>\\n  </td>\\n </tr>\\n <tr>\\n  <td>\\n  </td>\\n  <td style=\"overflow-x:hidden;white-space:nowrap\">\\n  </td>\\n  <td>\\n  </td>\\n </tr>\\n <tr>\\n  <td>\\n  </td>\\n  <td style=\"overflow-x:hidden;white-space:nowrap\">\\n  </td>\\n  <td>\\n  </td>\\n </tr>\\n <tr>\\n  <td>\\n  </td>\\n  <td style=\"overflow-x:hidden;white-space:nowrap\">\\n  </td>\\n  <td>\\n  </td>\\n </tr>\\n <tr>\\n  <td>\\n  </td>\\n  <td style=\"overflow-x:hidden;white-space:nowrap\">\\n  </td>\\n  <td>\\n  </td>\\n </tr>\\n <tr>\\n  <td>\\n  </td>\\n  <td style=\"overflow-x:hidden;white-space:nowrap\">\\n  </td>\\n  <td>\\n  </td>\\n </tr>\\n <tr>\\n  <td>\\n  </td>\\n  <td style=\"overflow-x:hidden;white-space:nowrap\">\\n  </td>\\n  <td>\\n  </td>\\n </tr>\\n <tr>\\n  <td>\\n  </td>\\n  <td style=\"overflow-x:hidden;white-space:nowrap\">\\n  </td>\\n  <td>\\n  </td>\\n </tr>\\n <tr>\\n  <td>\\n  </td>\\n  <td style=\"overflow-x:hidden;white-space:nowrap\">\\n  </td>\\n  <td>\\n  </td>\\n </tr>\\n <tr>\\n  <td>\\n  </td>\\n  <td style=\"overflow-x:hidden;white-space:nowrap\">\\n  </td>\\n  <td>\\n  </td>\\n </tr>\\n</tbody>\\n'"
      ]
     },
     "execution_count": 6,
     "metadata": {},
     "output_type": "execute_result"
    }
   ],
   "source": [
    "soup.find('div', attrs = {'id':'livePlayersDiv'}).find('tbody').prettify()"
   ]
  },
  {
   "cell_type": "code",
   "execution_count": 10,
   "metadata": {},
   "outputs": [
    {
     "data": {
      "text/html": [
       "<div>\n",
       "<style scoped>\n",
       "    .dataframe tbody tr th:only-of-type {\n",
       "        vertical-align: middle;\n",
       "    }\n",
       "\n",
       "    .dataframe tbody tr th {\n",
       "        vertical-align: top;\n",
       "    }\n",
       "\n",
       "    .dataframe thead th {\n",
       "        text-align: right;\n",
       "    }\n",
       "</style>\n",
       "<table border=\"1\" class=\"dataframe\">\n",
       "  <thead>\n",
       "    <tr style=\"text-align: right;\">\n",
       "      <th></th>\n",
       "      <th>Team</th>\n",
       "      <th>Nick</th>\n",
       "      <th>Glicko</th>\n",
       "    </tr>\n",
       "  </thead>\n",
       "  <tbody>\n",
       "  </tbody>\n",
       "</table>\n",
       "</div>"
      ],
      "text/plain": [
       "Empty DataFrame\n",
       "Columns: [Team, Nick, Glicko]\n",
       "Index: []"
      ]
     },
     "execution_count": 10,
     "metadata": {},
     "output_type": "execute_result"
    }
   ],
   "source": [
    "players = pd.read_html(soup.find('div', attrs = {'id':'livePlayersDiv'}).find('table').prettify())[0].dropna()\n",
    "players"
   ]
  },
  {
   "cell_type": "code",
   "execution_count": 11,
   "metadata": {},
   "outputs": [],
   "source": [
    "# driver.close()"
   ]
  }
 ],
 "metadata": {
  "kernelspec": {
   "display_name": "Python 3.11.3 ('torchnew')",
   "language": "python",
   "name": "python3"
  },
  "language_info": {
   "codemirror_mode": {
    "name": "ipython",
    "version": 3
   },
   "file_extension": ".py",
   "mimetype": "text/x-python",
   "name": "python",
   "nbconvert_exporter": "python",
   "pygments_lexer": "ipython3",
   "version": "3.11.3"
  },
  "orig_nbformat": 4,
  "vscode": {
   "interpreter": {
    "hash": "aae2c75324e7fdf5ebd22146e2daffaa477f8ea149f0e685be4c317c2939a685"
   }
  }
 },
 "nbformat": 4,
 "nbformat_minor": 2
}
