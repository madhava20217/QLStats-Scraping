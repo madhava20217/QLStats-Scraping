{
 "cells": [
  {
   "cell_type": "code",
   "execution_count": 1,
   "metadata": {},
   "outputs": [],
   "source": [
    "import selenium\n",
    "from selenium import webdriver\n",
    "from selenium.webdriver.common.by import By\n",
    "\n",
    "import bs4\n",
    "import re\n",
    "\n",
    "import pandas as pd\n",
    "from dateutil import parser"
   ]
  },
  {
   "cell_type": "code",
   "execution_count": 2,
   "metadata": {},
   "outputs": [],
   "source": [
    "options = webdriver.EdgeOptions()\n",
    "# options.add_argument('headless')\n",
    "options.add_argument('inprivate')\n",
    "driver = webdriver.Edge(options= options)"
   ]
  },
  {
   "cell_type": "code",
   "execution_count": 3,
   "metadata": {},
   "outputs": [],
   "source": [
    "driver.get('https://qlstats.net/server/5935')"
   ]
  },
  {
   "cell_type": "code",
   "execution_count": 4,
   "metadata": {},
   "outputs": [],
   "source": [
    "def is_cookie_screen(driver : selenium.webdriver):\n",
    "    '''A function to check if the given webpage is the 'accept cookies' screen.\n",
    "    Regex matches the body of the '''\n",
    "    element = driver.find_element(By.TAG_NAME, value = 'body')\n",
    "    cookie_screen = re.compile(r'.*(To continue using qlstats, you need to agree to the use of cookies.\\nAgree).*')\n",
    "    if cookie_screen.search(element.text) is None:\n",
    "        return False\n",
    "    return True\n",
    "#press the button\n",
    "\n",
    "\n",
    "if is_cookie_screen(driver):\n",
    "    try:\n",
    "        button = driver.find_element(By.TAG_NAME, 'button')\n",
    "        button.click()\n",
    "    except:\n",
    "        \"Cookies could not be accepted, please recheck\""
   ]
  },
  {
   "cell_type": "code",
   "execution_count": 33,
   "metadata": {},
   "outputs": [],
   "source": [
    "soup = bs4.BeautifulSoup(driver.page_source)"
   ]
  },
  {
   "cell_type": "code",
   "execution_count": 34,
   "metadata": {},
   "outputs": [
    {
     "data": {
      "text/plain": [
       "'<tbody>\\n <tr>\\n  <td>\\n   Red\\n  </td>\\n  <td style=\"overflow-x:hidden;white-space:nowrap\">\\n   <a href=\"/player/76561198071679695\">\\n    <span class=\"ql7\">\\n     Addy\\n    </span>\\n   </a>\\n  </td>\\n  <td style=\"cursor: help;\" title=\"± 36\">\\n   1442\\n  </td>\\n </tr>\\n <tr>\\n  <td>\\n   Red\\n  </td>\\n  <td style=\"overflow-x:hidden;white-space:nowrap\">\\n   <a href=\"/player/76561198322252036\">\\n    <span class=\"ql7\">\\n    </span>\\n    <span class=\"ql1\">\\n     ꭅ\\n    </span>\\n    <span class=\"ql7\">\\n     _\\n    </span>\\n    <span class=\"ql4\">\\n     ꭅ\\n    </span>\\n    <span class=\"ql7\">\\n    </span>\\n   </a>\\n  </td>\\n  <td style=\"cursor: help;\" title=\"± 31\">\\n   1022\\n  </td>\\n </tr>\\n <tr>\\n  <td>\\n   Red\\n  </td>\\n  <td style=\"overflow-x:hidden;white-space:nowrap\">\\n   <a href=\"/player/76561198133517331\">\\n    <span class=\"ql7\">\\n     Banana Rocket\\n    </span>\\n   </a>\\n  </td>\\n  <td style=\"cursor: help;\" title=\"± 34\">\\n   949\\n  </td>\\n </tr>\\n <tr>\\n  <td>\\n   Red\\n  </td>\\n  <td style=\"overflow-x:hidden;white-space:nowrap\">\\n   <a href=\"/player/76561198872310769\">\\n    <span class=\"ql7\">\\n    </span>\\n    <span class=\"ql1\">\\n     J\\n    </span>\\n    <span class=\"ql7\">\\n     1\\n    </span>\\n    <span class=\"ql1\">\\n     NX\\n    </span>\\n    <span class=\"ql7\">\\n    </span>\\n   </a>\\n  </td>\\n  <td style=\"cursor: help;\" title=\"± 38\">\\n   736\\n  </td>\\n </tr>\\n <tr>\\n  <td>\\n   Blue\\n  </td>\\n  <td style=\"overflow-x:hidden;white-space:nowrap\">\\n   <a href=\"/player/76561198062475631\">\\n    <span class=\"ql7\">\\n     BOOBISHA\\n    </span>\\n   </a>\\n  </td>\\n  <td style=\"cursor: help;\" title=\"± 43\">\\n   1258\\n  </td>\\n </tr>\\n <tr>\\n  <td>\\n   Blue\\n  </td>\\n  <td style=\"overflow-x:hidden;white-space:nowrap\">\\n   <a href=\"/player/76561197968261050\">\\n    <span class=\"ql7\">\\n    </span>\\n    <span class=\"ql7\">\\n    </span>\\n    <span class=\"ql1\">\\n     A S U R A\\n    </span>\\n    <span class=\"ql7\">\\n    </span>\\n   </a>\\n  </td>\\n  <td style=\"cursor: help;\" title=\"± 33\">\\n   1058\\n  </td>\\n </tr>\\n <tr>\\n  <td>\\n   Blue\\n  </td>\\n  <td style=\"overflow-x:hidden;white-space:nowrap\">\\n   <a href=\"/player/76561197999722437\">\\n    <span class=\"ql7\">\\n     Mr.\\n    </span>\\n    <span class=\"ql5\">\\n     coat\\n    </span>\\n    <span class=\"ql7\">\\n    </span>\\n   </a>\\n  </td>\\n  <td style=\"cursor: help;\" title=\"± 33\">\\n   966\\n  </td>\\n </tr>\\n <tr>\\n  <td>\\n   Blue\\n  </td>\\n  <td style=\"overflow-x:hidden;white-space:nowrap\">\\n   <a href=\"/player/76561198395248624\">\\n    <span class=\"ql7\">\\n     ibu_hatela\\n    </span>\\n   </a>\\n  </td>\\n  <td style=\"cursor: help;\" title=\"± 31\">\\n   942\\n  </td>\\n </tr>\\n <tr>\\n  <td>\\n   Spec\\n  </td>\\n  <td style=\"overflow-x:hidden;white-space:nowrap\">\\n   <a href=\"/player/76561199076601996\">\\n    <span class=\"ql7\">\\n    </span>\\n    <span class=\"ql1\">\\n     4\\n    </span>\\n    <span class=\"ql7\">\\n     skill\\n    </span>\\n   </a>\\n  </td>\\n  <td style=\"cursor: help;\" title=\"± 44\">\\n   1083\\n  </td>\\n </tr>\\n <tr>\\n  <td>\\n   Spec\\n  </td>\\n  <td style=\"overflow-x:hidden;white-space:nowrap\">\\n   <a href=\"/player/76561198381784519\">\\n    <span class=\"ql7\">\\n     Hitman\\n    </span>\\n   </a>\\n  </td>\\n  <td style=\"cursor: help;\" title=\"± 34\">\\n   1066\\n  </td>\\n </tr>\\n <tr>\\n  <td>\\n   Spec\\n  </td>\\n  <td style=\"overflow-x:hidden;white-space:nowrap\">\\n   <a href=\"/player/76561198834616666\">\\n    <span class=\"ql7\">\\n     CHOOCHI DESTROYER\\n    </span>\\n   </a>\\n  </td>\\n  <td style=\"cursor: help;\" title=\"± 35\">\\n   711\\n  </td>\\n </tr>\\n</tbody>\\n'"
      ]
     },
     "execution_count": 34,
     "metadata": {},
     "output_type": "execute_result"
    }
   ],
   "source": [
    "soup.find('div', attrs = {'id':'livePlayersDiv'}).find('tbody').prettify()"
   ]
  },
  {
   "cell_type": "code",
   "execution_count": 35,
   "metadata": {},
   "outputs": [
    {
     "data": {
      "text/plain": [
       "[    Team               Nick  Glicko\n",
       " 0    Red               Addy    1442\n",
       " 1    Red            ꭅ  _  ꭅ    1022\n",
       " 2    Red      Banana Rocket     949\n",
       " 3    Red           J  1  NX     736\n",
       " 4   Blue           BOOBISHA    1258\n",
       " 5   Blue          A S U R A    1058\n",
       " 6   Blue          Mr.  coat     966\n",
       " 7   Blue         ibu_hatela     942\n",
       " 8   Spec           4  skill    1083\n",
       " 9   Spec             Hitman    1066\n",
       " 10  Spec  CHOOCHI DESTROYER     711]"
      ]
     },
     "execution_count": 35,
     "metadata": {},
     "output_type": "execute_result"
    }
   ],
   "source": [
    "pd.read_html(soup.find('div', attrs = {'id':'livePlayersDiv'}).find('table').prettify())"
   ]
  }
 ],
 "metadata": {
  "kernelspec": {
   "display_name": "Python 3.11.3 ('torchnew')",
   "language": "python",
   "name": "python3"
  },
  "language_info": {
   "codemirror_mode": {
    "name": "ipython",
    "version": 3
   },
   "file_extension": ".py",
   "mimetype": "text/x-python",
   "name": "python",
   "nbconvert_exporter": "python",
   "pygments_lexer": "ipython3",
   "version": "3.11.3"
  },
  "orig_nbformat": 4,
  "vscode": {
   "interpreter": {
    "hash": "aae2c75324e7fdf5ebd22146e2daffaa477f8ea149f0e685be4c317c2939a685"
   }
  }
 },
 "nbformat": 4,
 "nbformat_minor": 2
}
