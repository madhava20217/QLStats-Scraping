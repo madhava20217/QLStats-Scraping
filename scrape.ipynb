{
 "cells": [
  {
   "cell_type": "code",
   "execution_count": null,
   "metadata": {},
   "outputs": [],
   "source": [
    "import requests\n",
    "from bs4 import BeautifulSoup\n",
    "import re\n",
    "import json\n",
    "import pandas as pd \n",
    "\n",
    "page = requests.get('https://qlstats.net/games?server_id=4271&type=ca')\n",
    "\n",
    "soup = BeautifulSoup(page.content, \"html.parser\")\n",
    "\n",
    "tdList = soup.find_all(\"td\")\n",
    "\n",
    "aList = [td.a for td in tdList if td.a is not None and td.a.text == \"view\"]\n",
    "\n",
    "game_url = 'https://qlstats.net'\n",
    "\n",
    "game_pages = [game_url+a.attrs['href'] for a in aList]\n",
    "\n",
    "game = []\n",
    "rowList = []\n",
    "tdList = []\n",
    "teamData = {'player_name': [], 'time': [], 'rounds': [], 'kill': [], 'deaths': [], 'dmg_done': [], 'dmg_taken': [], 'score': [], 'perf': [], 'old_glicko': [], 'glicko_change': [], 'result': [], 'team_id':[] }\n",
    "\n",
    "keys = list(teamData.keys())\n",
    "keys = keys[:-2]\n",
    "\n",
    "team_counter  = 1\n",
    "\n",
    "for gp in game_pages:\n",
    "\n",
    "    soup = BeautifulSoup(requests.get(gp).content, \"html.parser\")\n",
    "\n",
    "    score = int( re.sub('\\n|\\s','',soup.find_all(\"div\", attrs={'class': 'blue'})[1].text) )\n",
    "\n",
    "    rowList = soup.find_all(\"tr\", attrs={'class': 'blue'})\n",
    "\n",
    "    result = 1 if score == 10 else 0\n",
    "\n",
    "    for row in rowList:\n",
    "\n",
    "        tdList = row.find_all(\"td\")\n",
    "\n",
    "        for (td,key) in zip(tdList,keys) :\n",
    "\n",
    "            teamData[key].append(td.getText().strip())\n",
    "\n",
    "        teamData['result'].append(result)\n",
    "\n",
    "        teamData['team_id'].append(team_counter)\n",
    "\n",
    "        # print(tdList, end='\\n')\n",
    "\n",
    "        # teamData['player_name'].append(tdList[0].text)\n",
    "        \n",
    "    # game.append(requests.get(gp))\n",
    "    # break\n",
    "    team_counter +=1\n",
    "\n",
    "# print()\n",
    "\n",
    "# df = pd.DataFrame(teamData)\n",
    "\n",
    "# with open('webpages.txt', 'w') as f:\n",
    "\n",
    "#     f.writelines(\"\\n\".join(game))"
   ]
  }
 ],
 "metadata": {
  "kernelspec": {
   "display_name": "Python 3.10.0 ('ml')",
   "language": "python",
   "name": "python3"
  },
  "language_info": {
   "name": "python",
   "version": "3.10.0"
  },
  "orig_nbformat": 4,
  "vscode": {
   "interpreter": {
    "hash": "c58e9361bde7ca617934da376e83056db506761bdc9593ca2087fabac973f609"
   }
  }
 },
 "nbformat": 4,
 "nbformat_minor": 2
}
