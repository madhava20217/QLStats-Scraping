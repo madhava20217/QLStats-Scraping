{
 "cells": [
  {
   "cell_type": "code",
   "execution_count": 117,
   "metadata": {},
   "outputs": [],
   "source": [
    "import selenium\n",
    "from selenium import webdriver\n",
    "from selenium.webdriver.common.by import By\n",
    "\n",
    "import bs4\n",
    "import re\n",
    "\n",
    "import pandas as pd\n",
    "from dateutil import parser\n",
    "from tqdm import tqdm\n",
    "from urllib.parse import urljoin\n",
    "import numpy as np\n",
    "\n",
    "tqdm.pandas()"
   ]
  },
  {
   "cell_type": "code",
   "execution_count": 2,
   "metadata": {},
   "outputs": [],
   "source": [
    "options = webdriver.EdgeOptions()\n",
    "# options.add_argument('headless')\n",
    "options.add_argument('inprivate')\n",
    "driver = webdriver.Edge(options= options)"
   ]
  },
  {
   "cell_type": "code",
   "execution_count": 7,
   "metadata": {},
   "outputs": [],
   "source": [
    "BASE_URL = 'https://qlstats.net/'"
   ]
  },
  {
   "cell_type": "code",
   "execution_count": 9,
   "metadata": {},
   "outputs": [],
   "source": [
    "driver.get(BASE_URL)"
   ]
  },
  {
   "cell_type": "markdown",
   "metadata": {},
   "source": [
    "### Bypass cookie screen"
   ]
  },
  {
   "cell_type": "code",
   "execution_count": 4,
   "metadata": {},
   "outputs": [],
   "source": [
    "def is_cookie_screen(driver : selenium.webdriver):\n",
    "    '''A function to check if the given webpage is the 'accept cookies' screen.\n",
    "    Regex matches the body of the '''\n",
    "    element = driver.find_element(By.TAG_NAME, value = 'body')\n",
    "    cookie_screen = re.compile(r'.*(To continue using qlstats, you need to agree to the use of cookies.\\nAgree).*')\n",
    "    if cookie_screen.search(element.text) is None:\n",
    "        return False\n",
    "    return True\n",
    "#press the button\n",
    "\n",
    "\n",
    "if is_cookie_screen(driver):\n",
    "    try:\n",
    "        button = driver.find_element(By.TAG_NAME, 'button')\n",
    "        button.click()\n",
    "    except:\n",
    "        \"Cookies could not be accepted, please recheck\""
   ]
  },
  {
   "cell_type": "markdown",
   "metadata": {},
   "source": [
    "## Read Matches data"
   ]
  },
  {
   "cell_type": "code",
   "execution_count": 6,
   "metadata": {},
   "outputs": [
    {
     "data": {
      "text/html": [
       "<div>\n",
       "<style scoped>\n",
       "    .dataframe tbody tr th:only-of-type {\n",
       "        vertical-align: middle;\n",
       "    }\n",
       "\n",
       "    .dataframe tbody tr th {\n",
       "        vertical-align: top;\n",
       "    }\n",
       "\n",
       "    .dataframe thead th {\n",
       "        text-align: right;\n",
       "    }\n",
       "</style>\n",
       "<table border=\"1\" class=\"dataframe\">\n",
       "  <thead>\n",
       "    <tr style=\"text-align: right;\">\n",
       "      <th></th>\n",
       "      <th>href</th>\n",
       "      <th>Time</th>\n",
       "      <th>Type</th>\n",
       "      <th>Map</th>\n",
       "      <th>Score</th>\n",
       "      <th>Rated</th>\n",
       "    </tr>\n",
       "  </thead>\n",
       "  <tbody>\n",
       "    <tr>\n",
       "      <th>0</th>\n",
       "      <td>/game/8892316</td>\n",
       "      <td>2023-08-14 00:32:27</td>\n",
       "      <td>ca</td>\n",
       "      <td>eviscerated</td>\n",
       "      <td>10:9</td>\n",
       "      <td>A</td>\n",
       "    </tr>\n",
       "    <tr>\n",
       "      <th>1</th>\n",
       "      <td>/game/8892261</td>\n",
       "      <td>2023-08-14 00:15:36</td>\n",
       "      <td>ca</td>\n",
       "      <td>hearth</td>\n",
       "      <td>10:6</td>\n",
       "      <td>A</td>\n",
       "    </tr>\n",
       "    <tr>\n",
       "      <th>2</th>\n",
       "      <td>/game/8892223</td>\n",
       "      <td>2023-08-14 00:02:27</td>\n",
       "      <td>ca</td>\n",
       "      <td>asylum</td>\n",
       "      <td>9:10</td>\n",
       "      <td>A</td>\n",
       "    </tr>\n",
       "    <tr>\n",
       "      <th>3</th>\n",
       "      <td>/game/8892179</td>\n",
       "      <td>2023-08-14 23:44:34</td>\n",
       "      <td>ca</td>\n",
       "      <td>overek</td>\n",
       "      <td>10:5</td>\n",
       "      <td>A</td>\n",
       "    </tr>\n",
       "    <tr>\n",
       "      <th>4</th>\n",
       "      <td>/game/8892128</td>\n",
       "      <td>2023-08-14 23:27:45</td>\n",
       "      <td>ca</td>\n",
       "      <td>quarantine</td>\n",
       "      <td>10:7</td>\n",
       "      <td>A</td>\n",
       "    </tr>\n",
       "    <tr>\n",
       "      <th>...</th>\n",
       "      <td>...</td>\n",
       "      <td>...</td>\n",
       "      <td>...</td>\n",
       "      <td>...</td>\n",
       "      <td>...</td>\n",
       "      <td>...</td>\n",
       "    </tr>\n",
       "    <tr>\n",
       "      <th>1809</th>\n",
       "      <td>/game/8539834</td>\n",
       "      <td>2023-02-04 22:30:55</td>\n",
       "      <td>ca</td>\n",
       "      <td>quarantine</td>\n",
       "      <td>7:10</td>\n",
       "      <td>A</td>\n",
       "    </tr>\n",
       "    <tr>\n",
       "      <th>1810</th>\n",
       "      <td>/game/8539812</td>\n",
       "      <td>2023-02-04 22:14:59</td>\n",
       "      <td>ca</td>\n",
       "      <td>overek</td>\n",
       "      <td>10:3</td>\n",
       "      <td>A</td>\n",
       "    </tr>\n",
       "    <tr>\n",
       "      <th>1811</th>\n",
       "      <td>/game/8539797</td>\n",
       "      <td>2023-02-04 22:01:27</td>\n",
       "      <td>ca</td>\n",
       "      <td>campgrounds</td>\n",
       "      <td>3:10</td>\n",
       "      <td>A</td>\n",
       "    </tr>\n",
       "    <tr>\n",
       "      <th>1812</th>\n",
       "      <td>/game/8539779</td>\n",
       "      <td>2023-02-04 21:46:15</td>\n",
       "      <td>ca</td>\n",
       "      <td>trinity</td>\n",
       "      <td>10:8</td>\n",
       "      <td>A</td>\n",
       "    </tr>\n",
       "    <tr>\n",
       "      <th>1813</th>\n",
       "      <td>/game/8539756</td>\n",
       "      <td>2023-02-04 21:28:03</td>\n",
       "      <td>ca</td>\n",
       "      <td>asylum</td>\n",
       "      <td>5:10</td>\n",
       "      <td>A</td>\n",
       "    </tr>\n",
       "  </tbody>\n",
       "</table>\n",
       "<p>1814 rows × 6 columns</p>\n",
       "</div>"
      ],
      "text/plain": [
       "               href                 Time Type          Map Score Rated\n",
       "0     /game/8892316  2023-08-14 00:32:27   ca  eviscerated  10:9     A\n",
       "1     /game/8892261  2023-08-14 00:15:36   ca       hearth  10:6     A\n",
       "2     /game/8892223  2023-08-14 00:02:27   ca       asylum  9:10     A\n",
       "3     /game/8892179  2023-08-14 23:44:34   ca       overek  10:5     A\n",
       "4     /game/8892128  2023-08-14 23:27:45   ca   quarantine  10:7     A\n",
       "...             ...                  ...  ...          ...   ...   ...\n",
       "1809  /game/8539834  2023-02-04 22:30:55   ca   quarantine  7:10     A\n",
       "1810  /game/8539812  2023-02-04 22:14:59   ca       overek  10:3     A\n",
       "1811  /game/8539797  2023-02-04 22:01:27   ca  campgrounds  3:10     A\n",
       "1812  /game/8539779  2023-02-04 21:46:15   ca      trinity  10:8     A\n",
       "1813  /game/8539756  2023-02-04 21:28:03   ca       asylum  5:10     A\n",
       "\n",
       "[1814 rows x 6 columns]"
      ]
     },
     "execution_count": 6,
     "metadata": {},
     "output_type": "execute_result"
    }
   ],
   "source": [
    "matches = pd.read_csv(\"data/match_details_post_feb23.csv\")\n",
    "matches"
   ]
  },
  {
   "cell_type": "code",
   "execution_count": 13,
   "metadata": {},
   "outputs": [
    {
     "data": {
      "text/plain": [
       "'https://qlstats.net/game/8892316'"
      ]
     },
     "execution_count": 13,
     "metadata": {},
     "output_type": "execute_result"
    }
   ],
   "source": [
    "urljoin(BASE_URL, matches['href'][0])"
   ]
  },
  {
   "cell_type": "code",
   "execution_count": 14,
   "metadata": {},
   "outputs": [],
   "source": [
    "driver.get(urljoin(BASE_URL, matches['href'][0]))"
   ]
  },
  {
   "cell_type": "markdown",
   "metadata": {},
   "source": [
    "## Scraping time"
   ]
  },
  {
   "cell_type": "code",
   "execution_count": 28,
   "metadata": {},
   "outputs": [
    {
     "data": {
      "text/plain": [
       "<p style=\"display:inline-block\">\n",
       "    Played: <span class=\"abstime\" data-epoch=\"1691953347\" title=\"about 19 hours ago\">00:32:27</span><br/>\n",
       "    Game Type: Clan Arena (ca)<br/>\n",
       "    Server: <a href=\"/server/5935\" name=\"Server info page for (India+Singapore+UAE) Topgun's CA Server w/crouchslide\">(India+Singapore+UAE) Topgun's CA Server w/crouchslide</a><br/>\n",
       "    Map: <a href=\"/map/24\" name=\"Map info page for eviscerated\">eviscerated</a><br/>\n",
       "    Duration: 13:33\n",
       "    <br/>Rating Status:\n",
       "    \n",
       "    Rated\n",
       "    </p>"
      ]
     },
     "execution_count": 28,
     "metadata": {},
     "output_type": "execute_result"
    }
   ],
   "source": [
    "soup.find('p')"
   ]
  },
  {
   "cell_type": "markdown",
   "metadata": {},
   "source": [
    "### Regex for scraping match info"
   ]
  },
  {
   "cell_type": "code",
   "execution_count": 35,
   "metadata": {},
   "outputs": [
    {
     "data": {
      "text/plain": [
       "[('00:32:27',\n",
       "  'Clan Arena (ca)',\n",
       "  \"(India+Singapore+UAE) Topgun's CA Server w/crouchslide\",\n",
       "  'eviscerated',\n",
       "  '13:33',\n",
       "  'Rated')]"
      ]
     },
     "execution_count": 35,
     "metadata": {},
     "output_type": "execute_result"
    }
   ],
   "source": [
    "keys = [\"time\", 'gametype', 'server', 'map', 'duration', 'if_rated']\n",
    "\n",
    "exp = re.compile(r'Played: (.*) Game Type: (.*) Server: (.*) Map: (.*) Duration: (.*) Rating Status: (.*)')\n",
    "exp.findall(\"Played: 00:32:27 Game Type: Clan Arena (ca) Server: (India+Singapore+UAE) Topgun's CA Server w/crouchslide Map: eviscerated Duration: 13:33 Rating Status: Rated\")"
   ]
  },
  {
   "cell_type": "code",
   "execution_count": 29,
   "metadata": {},
   "outputs": [
    {
     "data": {
      "text/plain": [
       "\"Played: 00:32:27 Game Type: Clan Arena (ca) Server: (India+Singapore+UAE) Topgun's CA Server w/crouchslide Map: eviscerated Duration: 13:33 Rating Status: Rated\""
      ]
     },
     "execution_count": 29,
     "metadata": {},
     "output_type": "execute_result"
    }
   ],
   "source": [
    "soup = bs4.BeautifulSoup(driver.page_source)\n",
    "\" \".join([x.strip() for x in soup.find('p').text.splitlines() if x.strip() != ''])"
   ]
  },
  {
   "cell_type": "markdown",
   "metadata": {},
   "source": [
    "### Extracting IDs and associating them to players"
   ]
  },
  {
   "cell_type": "code",
   "execution_count": 59,
   "metadata": {},
   "outputs": [
    {
     "data": {
      "text/plain": [
       "[<td class=\"player-nick\">\n",
       " <a href=\"/player/171710\" title=\"Go to the info page for this player\">\n",
       " <span class=\"nick\"><span class=\"ql7\"><span class=\"ql5\">geebee<span class=\"ql7\"></span></span></span></span>\n",
       " </a>\n",
       " </td>,\n",
       " <td class=\"player-nick\">\n",
       " <a href=\"/player/205146\" title=\"Go to the info page for this player\">\n",
       " <span class=\"nick\"><span class=\"ql7\">ibu_hatela</span></span>\n",
       " </a>\n",
       " </td>,\n",
       " <td class=\"player-nick\">\n",
       " <a href=\"/player/370599\" title=\"Go to the info page for this player\">\n",
       " <span class=\"nick\"><span class=\"ql7\"><span class=\"ql1\">Stealth<span class=\"ql7\"></span></span></span></span>\n",
       " </a>\n",
       " </td>,\n",
       " <td class=\"player-nick\">\n",
       " <a href=\"/player/312322\" title=\"Go to the info page for this player\">\n",
       " <span class=\"nick\"><span class=\"ql7\">HYDRAZINE</span></span>\n",
       " </a>\n",
       " </td>,\n",
       " <td class=\"player-nick\">\n",
       " <a href=\"/player/17598\" title=\"Go to the info page for this player\">\n",
       " <span class=\"nick\"><span class=\"ql7\">bhoot</span></span>\n",
       " </a>\n",
       " </td>,\n",
       " <td class=\"player-nick\">\n",
       " <a href=\"/player/277532\" title=\"Go to the info page for this player\">\n",
       " <span class=\"nick\"><span class=\"ql7\">CHOOCHI DESTROYER</span></span>\n",
       " </a>\n",
       " </td>]"
      ]
     },
     "execution_count": 59,
     "metadata": {},
     "output_type": "execute_result"
    }
   ],
   "source": [
    "soup.findAll('td', attrs = {'class':'player-nick'})"
   ]
  },
  {
   "cell_type": "markdown",
   "metadata": {},
   "source": [
    "### Extracting tables"
   ]
  },
  {
   "cell_type": "code",
   "execution_count": 74,
   "metadata": {},
   "outputs": [
    {
     "data": {
      "text/html": [
       "<div>\n",
       "<style scoped>\n",
       "    .dataframe tbody tr th:only-of-type {\n",
       "        vertical-align: middle;\n",
       "    }\n",
       "\n",
       "    .dataframe tbody tr th {\n",
       "        vertical-align: top;\n",
       "    }\n",
       "\n",
       "    .dataframe thead th {\n",
       "        text-align: right;\n",
       "    }\n",
       "</style>\n",
       "<table border=\"1\" class=\"dataframe\">\n",
       "  <thead>\n",
       "    <tr style=\"text-align: right;\">\n",
       "      <th></th>\n",
       "      <th>Player</th>\n",
       "      <th>SG</th>\n",
       "      <th>GL</th>\n",
       "      <th>RL</th>\n",
       "      <th>LG</th>\n",
       "      <th>RG</th>\n",
       "      <th>PG</th>\n",
       "      <th>HMG</th>\n",
       "    </tr>\n",
       "  </thead>\n",
       "  <tbody>\n",
       "    <tr>\n",
       "      <th>0</th>\n",
       "      <td>HYDRAZINE</td>\n",
       "      <td>1 / 11%  9 / 80</td>\n",
       "      <td>0 / 0%  0 / 6</td>\n",
       "      <td>1 / 42%  15 / 36</td>\n",
       "      <td>6 / 42%  688 / 1628</td>\n",
       "      <td>7 / 60%  28 / 47</td>\n",
       "      <td>NaN</td>\n",
       "      <td>NaN</td>\n",
       "    </tr>\n",
       "    <tr>\n",
       "      <th>1</th>\n",
       "      <td>geebee</td>\n",
       "      <td>4 / 14%  19 / 140</td>\n",
       "      <td>0 / 25%  1 / 4</td>\n",
       "      <td>2 / 39%  24 / 62</td>\n",
       "      <td>1 / 44%  380 / 866</td>\n",
       "      <td>9 / 48%  32 / 66</td>\n",
       "      <td>NaN</td>\n",
       "      <td>NaN</td>\n",
       "    </tr>\n",
       "    <tr>\n",
       "      <th>2</th>\n",
       "      <td>ibu_hatela</td>\n",
       "      <td>7 / 32%  184 / 580</td>\n",
       "      <td>0 / 12%  7 / 57</td>\n",
       "      <td>4 / 40%  33 / 83</td>\n",
       "      <td>3 / 39%  153 / 389</td>\n",
       "      <td>5 / 38%  15 / 40</td>\n",
       "      <td>0 / 0%  0 / 12</td>\n",
       "      <td>0 / 0%  0 / 3</td>\n",
       "    </tr>\n",
       "    <tr>\n",
       "      <th>3</th>\n",
       "      <td>bhoot</td>\n",
       "      <td>2 / 10%  4 / 40</td>\n",
       "      <td>0 / 11%  7 / 66</td>\n",
       "      <td>6 / 34%  55 / 162</td>\n",
       "      <td>2 / 22%  116 / 529</td>\n",
       "      <td>0 / 24%  4 / 17</td>\n",
       "      <td>0 / 5%  5 / 108</td>\n",
       "      <td>NaN</td>\n",
       "    </tr>\n",
       "    <tr>\n",
       "      <th>4</th>\n",
       "      <td>CHOOCHI DESTROYER</td>\n",
       "      <td>1 / 17%  20 / 120</td>\n",
       "      <td>NaN</td>\n",
       "      <td>2 / 40%  44 / 110</td>\n",
       "      <td>2 / 24%  138 / 570</td>\n",
       "      <td>4 / 40%  16 / 40</td>\n",
       "      <td>NaN</td>\n",
       "      <td>NaN</td>\n",
       "    </tr>\n",
       "    <tr>\n",
       "      <th>5</th>\n",
       "      <td>Stealth</td>\n",
       "      <td>NaN</td>\n",
       "      <td>NaN</td>\n",
       "      <td>1 / 30%  39 / 130</td>\n",
       "      <td>4 / 25%  123 / 500</td>\n",
       "      <td>1 / 11%  2 / 19</td>\n",
       "      <td>NaN</td>\n",
       "      <td>NaN</td>\n",
       "    </tr>\n",
       "  </tbody>\n",
       "</table>\n",
       "</div>"
      ],
      "text/plain": [
       "              Player                  SG               GL                 RL  \\\n",
       "0          HYDRAZINE     1 / 11%  9 / 80    0 / 0%  0 / 6   1 / 42%  15 / 36   \n",
       "1             geebee   4 / 14%  19 / 140   0 / 25%  1 / 4   2 / 39%  24 / 62   \n",
       "2         ibu_hatela  7 / 32%  184 / 580  0 / 12%  7 / 57   4 / 40%  33 / 83   \n",
       "3              bhoot     2 / 10%  4 / 40  0 / 11%  7 / 66  6 / 34%  55 / 162   \n",
       "4  CHOOCHI DESTROYER   1 / 17%  20 / 120              NaN  2 / 40%  44 / 110   \n",
       "5            Stealth                 NaN              NaN  1 / 30%  39 / 130   \n",
       "\n",
       "                    LG                RG               PG            HMG  \n",
       "0  6 / 42%  688 / 1628  7 / 60%  28 / 47              NaN            NaN  \n",
       "1   1 / 44%  380 / 866  9 / 48%  32 / 66              NaN            NaN  \n",
       "2   3 / 39%  153 / 389  5 / 38%  15 / 40   0 / 0%  0 / 12  0 / 0%  0 / 3  \n",
       "3   2 / 22%  116 / 529   0 / 24%  4 / 17  0 / 5%  5 / 108            NaN  \n",
       "4   2 / 24%  138 / 570  4 / 40%  16 / 40              NaN            NaN  \n",
       "5   4 / 25%  123 / 500   1 / 11%  2 / 19              NaN            NaN  "
      ]
     },
     "execution_count": 74,
     "metadata": {},
     "output_type": "execute_result"
    }
   ],
   "source": [
    "accuracy_table = soup.find(\"div\", attrs={'id':'chartRow'})\n",
    "acc_table = pd.read_html(accuracy_table.prettify())[0].drop(columns = 'Unnamed: 1').rename(columns = {\"Unnamed: 0\": \"Player\"})\n",
    "acc_table"
   ]
  },
  {
   "cell_type": "code",
   "execution_count": 89,
   "metadata": {},
   "outputs": [],
   "source": [
    "splitter = re.compile(r\"(.*) / (\\d+)\\% (\\d+) / (\\d+)\")\n",
    "splitter.findall(\"1 / 11% 9 / 80\")\n",
    "\n",
    "def split_string(acc_string):\n",
    "    if pd.isna(acc_string):\n",
    "        return [pd.NA]*4\n",
    "    return splitter.findall(acc_string)"
   ]
  },
  {
   "cell_type": "code",
   "execution_count": 101,
   "metadata": {},
   "outputs": [
    {
     "data": {
      "text/plain": [
       "['SG_kills', 'SG_acc', 'SG_hits', 'SG_shots']"
      ]
     },
     "execution_count": 101,
     "metadata": {},
     "output_type": "execute_result"
    }
   ],
   "source": [
    "['{}_{}'.format(weapon, x) for x in cats]"
   ]
  },
  {
   "cell_type": "code",
   "execution_count": 118,
   "metadata": {},
   "outputs": [
    {
     "ename": "ValueError",
     "evalue": "setting an array element with a sequence.",
     "output_type": "error",
     "traceback": [
      "\u001b[1;31m---------------------------------------------------------------------------\u001b[0m",
      "\u001b[1;31mTypeError\u001b[0m                                 Traceback (most recent call last)",
      "\u001b[1;31mTypeError\u001b[0m: float() argument must be a string or a real number, not 'list'",
      "\nThe above exception was the direct cause of the following exception:\n",
      "\u001b[1;31mValueError\u001b[0m                                Traceback (most recent call last)",
      "Cell \u001b[1;32mIn[118], line 4\u001b[0m\n\u001b[0;32m      2\u001b[0m weapon \u001b[38;5;241m=\u001b[39m \u001b[38;5;124m'\u001b[39m\u001b[38;5;124mSG\u001b[39m\u001b[38;5;124m'\u001b[39m\n\u001b[0;32m      3\u001b[0m cats \u001b[38;5;241m=\u001b[39m [\u001b[38;5;124m'\u001b[39m\u001b[38;5;124mkills\u001b[39m\u001b[38;5;124m'\u001b[39m, \u001b[38;5;124m'\u001b[39m\u001b[38;5;124macc\u001b[39m\u001b[38;5;124m'\u001b[39m, \u001b[38;5;124m'\u001b[39m\u001b[38;5;124mhits\u001b[39m\u001b[38;5;124m'\u001b[39m, \u001b[38;5;124m'\u001b[39m\u001b[38;5;124mshots\u001b[39m\u001b[38;5;124m'\u001b[39m]\n\u001b[1;32m----> 4\u001b[0m np\u001b[38;5;241m.\u001b[39mvectorize(split_string)(acc_table\u001b[38;5;241m.\u001b[39miloc[:, \u001b[38;5;241m1\u001b[39m:])\n",
      "File \u001b[1;32mc:\\ProgramData\\Anaconda3\\envs\\torchnew\\Lib\\site-packages\\numpy\\lib\\function_base.py:2329\u001b[0m, in \u001b[0;36mvectorize.__call__\u001b[1;34m(self, *args, **kwargs)\u001b[0m\n\u001b[0;32m   2326\u001b[0m     vargs \u001b[39m=\u001b[39m [args[_i] \u001b[39mfor\u001b[39;00m _i \u001b[39min\u001b[39;00m inds]\n\u001b[0;32m   2327\u001b[0m     vargs\u001b[39m.\u001b[39mextend([kwargs[_n] \u001b[39mfor\u001b[39;00m _n \u001b[39min\u001b[39;00m names])\n\u001b[1;32m-> 2329\u001b[0m \u001b[39mreturn\u001b[39;00m \u001b[39mself\u001b[39m\u001b[39m.\u001b[39m_vectorize_call(func\u001b[39m=\u001b[39mfunc, args\u001b[39m=\u001b[39mvargs)\n",
      "File \u001b[1;32mc:\\ProgramData\\Anaconda3\\envs\\torchnew\\Lib\\site-packages\\numpy\\lib\\function_base.py:2415\u001b[0m, in \u001b[0;36mvectorize._vectorize_call\u001b[1;34m(self, func, args)\u001b[0m\n\u001b[0;32m   2412\u001b[0m outputs \u001b[39m=\u001b[39m ufunc(\u001b[39m*\u001b[39minputs)\n\u001b[0;32m   2414\u001b[0m \u001b[39mif\u001b[39;00m ufunc\u001b[39m.\u001b[39mnout \u001b[39m==\u001b[39m \u001b[39m1\u001b[39m:\n\u001b[1;32m-> 2415\u001b[0m     res \u001b[39m=\u001b[39m asanyarray(outputs, dtype\u001b[39m=\u001b[39motypes[\u001b[39m0\u001b[39m])\n\u001b[0;32m   2416\u001b[0m \u001b[39melse\u001b[39;00m:\n\u001b[0;32m   2417\u001b[0m     res \u001b[39m=\u001b[39m \u001b[39mtuple\u001b[39m([asanyarray(x, dtype\u001b[39m=\u001b[39mt)\n\u001b[0;32m   2418\u001b[0m                  \u001b[39mfor\u001b[39;00m x, t \u001b[39min\u001b[39;00m \u001b[39mzip\u001b[39m(outputs, otypes)])\n",
      "\u001b[1;31mValueError\u001b[0m: setting an array element with a sequence."
     ]
    }
   ],
   "source": [
    "acc_split_table = acc_table['Player']\n",
    "weapon = 'SG'\n",
    "cats = ['kills', 'acc', 'hits', 'shots']\n",
    "np.vectorize(split_string)(acc_table.iloc[:, 1:])\n",
    "\n"
   ]
  },
  {
   "cell_type": "code",
   "execution_count": 79,
   "metadata": {},
   "outputs": [
    {
     "data": {
      "text/html": [
       "<div>\n",
       "<style scoped>\n",
       "    .dataframe tbody tr th:only-of-type {\n",
       "        vertical-align: middle;\n",
       "    }\n",
       "\n",
       "    .dataframe tbody tr th {\n",
       "        vertical-align: top;\n",
       "    }\n",
       "\n",
       "    .dataframe thead th {\n",
       "        text-align: right;\n",
       "    }\n",
       "</style>\n",
       "<table border=\"1\" class=\"dataframe\">\n",
       "  <thead>\n",
       "    <tr style=\"text-align: right;\">\n",
       "      <th></th>\n",
       "      <th>SG</th>\n",
       "      <th>GL</th>\n",
       "      <th>RL</th>\n",
       "      <th>LG</th>\n",
       "      <th>RG</th>\n",
       "      <th>PG</th>\n",
       "      <th>HMG</th>\n",
       "    </tr>\n",
       "  </thead>\n",
       "  <tbody>\n",
       "    <tr>\n",
       "      <th>0</th>\n",
       "      <td>1 / 11%  9 / 80</td>\n",
       "      <td>0 / 0%  0 / 6</td>\n",
       "      <td>1 / 42%  15 / 36</td>\n",
       "      <td>6 / 42%  688 / 1628</td>\n",
       "      <td>7 / 60%  28 / 47</td>\n",
       "      <td>NaN</td>\n",
       "      <td>NaN</td>\n",
       "    </tr>\n",
       "    <tr>\n",
       "      <th>1</th>\n",
       "      <td>4 / 14%  19 / 140</td>\n",
       "      <td>0 / 25%  1 / 4</td>\n",
       "      <td>2 / 39%  24 / 62</td>\n",
       "      <td>1 / 44%  380 / 866</td>\n",
       "      <td>9 / 48%  32 / 66</td>\n",
       "      <td>NaN</td>\n",
       "      <td>NaN</td>\n",
       "    </tr>\n",
       "    <tr>\n",
       "      <th>2</th>\n",
       "      <td>7 / 32%  184 / 580</td>\n",
       "      <td>0 / 12%  7 / 57</td>\n",
       "      <td>4 / 40%  33 / 83</td>\n",
       "      <td>3 / 39%  153 / 389</td>\n",
       "      <td>5 / 38%  15 / 40</td>\n",
       "      <td>0 / 0%  0 / 12</td>\n",
       "      <td>0 / 0%  0 / 3</td>\n",
       "    </tr>\n",
       "    <tr>\n",
       "      <th>3</th>\n",
       "      <td>2 / 10%  4 / 40</td>\n",
       "      <td>0 / 11%  7 / 66</td>\n",
       "      <td>6 / 34%  55 / 162</td>\n",
       "      <td>2 / 22%  116 / 529</td>\n",
       "      <td>0 / 24%  4 / 17</td>\n",
       "      <td>0 / 5%  5 / 108</td>\n",
       "      <td>NaN</td>\n",
       "    </tr>\n",
       "    <tr>\n",
       "      <th>4</th>\n",
       "      <td>1 / 17%  20 / 120</td>\n",
       "      <td>NaN</td>\n",
       "      <td>2 / 40%  44 / 110</td>\n",
       "      <td>2 / 24%  138 / 570</td>\n",
       "      <td>4 / 40%  16 / 40</td>\n",
       "      <td>NaN</td>\n",
       "      <td>NaN</td>\n",
       "    </tr>\n",
       "    <tr>\n",
       "      <th>5</th>\n",
       "      <td>NaN</td>\n",
       "      <td>NaN</td>\n",
       "      <td>1 / 30%  39 / 130</td>\n",
       "      <td>4 / 25%  123 / 500</td>\n",
       "      <td>1 / 11%  2 / 19</td>\n",
       "      <td>NaN</td>\n",
       "      <td>NaN</td>\n",
       "    </tr>\n",
       "  </tbody>\n",
       "</table>\n",
       "</div>"
      ],
      "text/plain": [
       "                   SG               GL                 RL  \\\n",
       "0     1 / 11%  9 / 80    0 / 0%  0 / 6   1 / 42%  15 / 36   \n",
       "1   4 / 14%  19 / 140   0 / 25%  1 / 4   2 / 39%  24 / 62   \n",
       "2  7 / 32%  184 / 580  0 / 12%  7 / 57   4 / 40%  33 / 83   \n",
       "3     2 / 10%  4 / 40  0 / 11%  7 / 66  6 / 34%  55 / 162   \n",
       "4   1 / 17%  20 / 120              NaN  2 / 40%  44 / 110   \n",
       "5                 NaN              NaN  1 / 30%  39 / 130   \n",
       "\n",
       "                    LG                RG               PG            HMG  \n",
       "0  6 / 42%  688 / 1628  7 / 60%  28 / 47              NaN            NaN  \n",
       "1   1 / 44%  380 / 866  9 / 48%  32 / 66              NaN            NaN  \n",
       "2   3 / 39%  153 / 389  5 / 38%  15 / 40   0 / 0%  0 / 12  0 / 0%  0 / 3  \n",
       "3   2 / 22%  116 / 529   0 / 24%  4 / 17  0 / 5%  5 / 108            NaN  \n",
       "4   2 / 24%  138 / 570  4 / 40%  16 / 40              NaN            NaN  \n",
       "5   4 / 25%  123 / 500   1 / 11%  2 / 19              NaN            NaN  "
      ]
     },
     "execution_count": 79,
     "metadata": {},
     "output_type": "execute_result"
    }
   ],
   "source": [
    "acc_table.iloc[:, 1:]"
   ]
  },
  {
   "cell_type": "code",
   "execution_count": 38,
   "metadata": {},
   "outputs": [
    {
     "data": {
      "text/plain": [
       "6"
      ]
     },
     "execution_count": 38,
     "metadata": {},
     "output_type": "execute_result"
    }
   ],
   "source": [
    "table_rows = soup.findAll('div', attrs = {'class': 'row'})\n",
    "len(table_rows)"
   ]
  },
  {
   "cell_type": "code",
   "execution_count": 48,
   "metadata": {},
   "outputs": [
    {
     "data": {
      "text/html": [
       "<div>\n",
       "<style scoped>\n",
       "    .dataframe tbody tr th:only-of-type {\n",
       "        vertical-align: middle;\n",
       "    }\n",
       "\n",
       "    .dataframe tbody tr th {\n",
       "        vertical-align: top;\n",
       "    }\n",
       "\n",
       "    .dataframe thead th {\n",
       "        text-align: right;\n",
       "    }\n",
       "</style>\n",
       "<table border=\"1\" class=\"dataframe\">\n",
       "  <thead>\n",
       "    <tr style=\"text-align: right;\">\n",
       "      <th></th>\n",
       "      <th>Unnamed: 0</th>\n",
       "      <th>Unnamed: 1</th>\n",
       "      <th>SG</th>\n",
       "      <th>GL</th>\n",
       "      <th>RL</th>\n",
       "      <th>LG</th>\n",
       "      <th>RG</th>\n",
       "      <th>PG</th>\n",
       "      <th>HMG</th>\n",
       "    </tr>\n",
       "  </thead>\n",
       "  <tbody>\n",
       "    <tr>\n",
       "      <th>0</th>\n",
       "      <td>HYDRAZINE</td>\n",
       "      <td>Kills / Acc  Hits / Shots</td>\n",
       "      <td>1 / 11%  9 / 80</td>\n",
       "      <td>0 / 0%  0 / 6</td>\n",
       "      <td>1 / 42%  15 / 36</td>\n",
       "      <td>6 / 42%  688 / 1628</td>\n",
       "      <td>7 / 60%  28 / 47</td>\n",
       "      <td>NaN</td>\n",
       "      <td>NaN</td>\n",
       "    </tr>\n",
       "    <tr>\n",
       "      <th>1</th>\n",
       "      <td>geebee</td>\n",
       "      <td>Kills / Acc  Hits / Shots</td>\n",
       "      <td>4 / 14%  19 / 140</td>\n",
       "      <td>0 / 25%  1 / 4</td>\n",
       "      <td>2 / 39%  24 / 62</td>\n",
       "      <td>1 / 44%  380 / 866</td>\n",
       "      <td>9 / 48%  32 / 66</td>\n",
       "      <td>NaN</td>\n",
       "      <td>NaN</td>\n",
       "    </tr>\n",
       "    <tr>\n",
       "      <th>2</th>\n",
       "      <td>ibu_hatela</td>\n",
       "      <td>Kills / Acc  Hits / Shots</td>\n",
       "      <td>7 / 32%  184 / 580</td>\n",
       "      <td>0 / 12%  7 / 57</td>\n",
       "      <td>4 / 40%  33 / 83</td>\n",
       "      <td>3 / 39%  153 / 389</td>\n",
       "      <td>5 / 38%  15 / 40</td>\n",
       "      <td>0 / 0%  0 / 12</td>\n",
       "      <td>0 / 0%  0 / 3</td>\n",
       "    </tr>\n",
       "    <tr>\n",
       "      <th>3</th>\n",
       "      <td>bhoot</td>\n",
       "      <td>Kills / Acc  Hits / Shots</td>\n",
       "      <td>2 / 10%  4 / 40</td>\n",
       "      <td>0 / 11%  7 / 66</td>\n",
       "      <td>6 / 34%  55 / 162</td>\n",
       "      <td>2 / 22%  116 / 529</td>\n",
       "      <td>0 / 24%  4 / 17</td>\n",
       "      <td>0 / 5%  5 / 108</td>\n",
       "      <td>NaN</td>\n",
       "    </tr>\n",
       "    <tr>\n",
       "      <th>4</th>\n",
       "      <td>CHOOCHI DESTROYER</td>\n",
       "      <td>Kills / Acc  Hits / Shots</td>\n",
       "      <td>1 / 17%  20 / 120</td>\n",
       "      <td>NaN</td>\n",
       "      <td>2 / 40%  44 / 110</td>\n",
       "      <td>2 / 24%  138 / 570</td>\n",
       "      <td>4 / 40%  16 / 40</td>\n",
       "      <td>NaN</td>\n",
       "      <td>NaN</td>\n",
       "    </tr>\n",
       "    <tr>\n",
       "      <th>5</th>\n",
       "      <td>Stealth</td>\n",
       "      <td>Kills / Acc  Hits / Shots</td>\n",
       "      <td>NaN</td>\n",
       "      <td>NaN</td>\n",
       "      <td>1 / 30%  39 / 130</td>\n",
       "      <td>4 / 25%  123 / 500</td>\n",
       "      <td>1 / 11%  2 / 19</td>\n",
       "      <td>NaN</td>\n",
       "      <td>NaN</td>\n",
       "    </tr>\n",
       "  </tbody>\n",
       "</table>\n",
       "</div>"
      ],
      "text/plain": [
       "          Unnamed: 0                 Unnamed: 1                  SG  \\\n",
       "0          HYDRAZINE  Kills / Acc  Hits / Shots     1 / 11%  9 / 80   \n",
       "1             geebee  Kills / Acc  Hits / Shots   4 / 14%  19 / 140   \n",
       "2         ibu_hatela  Kills / Acc  Hits / Shots  7 / 32%  184 / 580   \n",
       "3              bhoot  Kills / Acc  Hits / Shots     2 / 10%  4 / 40   \n",
       "4  CHOOCHI DESTROYER  Kills / Acc  Hits / Shots   1 / 17%  20 / 120   \n",
       "5            Stealth  Kills / Acc  Hits / Shots                 NaN   \n",
       "\n",
       "                GL                 RL                   LG                RG  \\\n",
       "0    0 / 0%  0 / 6   1 / 42%  15 / 36  6 / 42%  688 / 1628  7 / 60%  28 / 47   \n",
       "1   0 / 25%  1 / 4   2 / 39%  24 / 62   1 / 44%  380 / 866  9 / 48%  32 / 66   \n",
       "2  0 / 12%  7 / 57   4 / 40%  33 / 83   3 / 39%  153 / 389  5 / 38%  15 / 40   \n",
       "3  0 / 11%  7 / 66  6 / 34%  55 / 162   2 / 22%  116 / 529   0 / 24%  4 / 17   \n",
       "4              NaN  2 / 40%  44 / 110   2 / 24%  138 / 570  4 / 40%  16 / 40   \n",
       "5              NaN  1 / 30%  39 / 130   4 / 25%  123 / 500   1 / 11%  2 / 19   \n",
       "\n",
       "                PG            HMG  \n",
       "0              NaN            NaN  \n",
       "1              NaN            NaN  \n",
       "2   0 / 0%  0 / 12  0 / 0%  0 / 3  \n",
       "3  0 / 5%  5 / 108            NaN  \n",
       "4              NaN            NaN  \n",
       "5              NaN            NaN  "
      ]
     },
     "execution_count": 48,
     "metadata": {},
     "output_type": "execute_result"
    }
   ],
   "source": [
    "pd.read_html(table_rows[0].prettify())[2]"
   ]
  },
  {
   "cell_type": "code",
   "execution_count": 49,
   "metadata": {},
   "outputs": [
    {
     "ename": "ValueError",
     "evalue": "No tables found",
     "output_type": "error",
     "traceback": [
      "\u001b[1;31m---------------------------------------------------------------------------\u001b[0m",
      "\u001b[1;31mValueError\u001b[0m                                Traceback (most recent call last)",
      "Cell \u001b[1;32mIn[49], line 1\u001b[0m\n\u001b[1;32m----> 1\u001b[0m pd\u001b[38;5;241m.\u001b[39mread_html(table_rows[\u001b[38;5;241m1\u001b[39m]\u001b[38;5;241m.\u001b[39mprettify())\n",
      "File \u001b[1;32mc:\\ProgramData\\Anaconda3\\envs\\torchnew\\Lib\\site-packages\\pandas\\util\\_decorators.py:331\u001b[0m, in \u001b[0;36mdeprecate_nonkeyword_arguments.<locals>.decorate.<locals>.wrapper\u001b[1;34m(*args, **kwargs)\u001b[0m\n\u001b[0;32m    325\u001b[0m \u001b[39mif\u001b[39;00m \u001b[39mlen\u001b[39m(args) \u001b[39m>\u001b[39m num_allow_args:\n\u001b[0;32m    326\u001b[0m     warnings\u001b[39m.\u001b[39mwarn(\n\u001b[0;32m    327\u001b[0m         msg\u001b[39m.\u001b[39mformat(arguments\u001b[39m=\u001b[39m_format_argument_list(allow_args)),\n\u001b[0;32m    328\u001b[0m         \u001b[39mFutureWarning\u001b[39;00m,\n\u001b[0;32m    329\u001b[0m         stacklevel\u001b[39m=\u001b[39mfind_stack_level(),\n\u001b[0;32m    330\u001b[0m     )\n\u001b[1;32m--> 331\u001b[0m \u001b[39mreturn\u001b[39;00m func(\u001b[39m*\u001b[39margs, \u001b[39m*\u001b[39m\u001b[39m*\u001b[39mkwargs)\n",
      "File \u001b[1;32mc:\\ProgramData\\Anaconda3\\envs\\torchnew\\Lib\\site-packages\\pandas\\io\\html.py:1205\u001b[0m, in \u001b[0;36mread_html\u001b[1;34m(io, match, flavor, header, index_col, skiprows, attrs, parse_dates, thousands, encoding, decimal, converters, na_values, keep_default_na, displayed_only, extract_links)\u001b[0m\n\u001b[0;32m   1201\u001b[0m validate_header_arg(header)\n\u001b[0;32m   1203\u001b[0m io \u001b[39m=\u001b[39m stringify_path(io)\n\u001b[1;32m-> 1205\u001b[0m \u001b[39mreturn\u001b[39;00m _parse(\n\u001b[0;32m   1206\u001b[0m     flavor\u001b[39m=\u001b[39mflavor,\n\u001b[0;32m   1207\u001b[0m     io\u001b[39m=\u001b[39mio,\n\u001b[0;32m   1208\u001b[0m     match\u001b[39m=\u001b[39mmatch,\n\u001b[0;32m   1209\u001b[0m     header\u001b[39m=\u001b[39mheader,\n\u001b[0;32m   1210\u001b[0m     index_col\u001b[39m=\u001b[39mindex_col,\n\u001b[0;32m   1211\u001b[0m     skiprows\u001b[39m=\u001b[39mskiprows,\n\u001b[0;32m   1212\u001b[0m     parse_dates\u001b[39m=\u001b[39mparse_dates,\n\u001b[0;32m   1213\u001b[0m     thousands\u001b[39m=\u001b[39mthousands,\n\u001b[0;32m   1214\u001b[0m     attrs\u001b[39m=\u001b[39mattrs,\n\u001b[0;32m   1215\u001b[0m     encoding\u001b[39m=\u001b[39mencoding,\n\u001b[0;32m   1216\u001b[0m     decimal\u001b[39m=\u001b[39mdecimal,\n\u001b[0;32m   1217\u001b[0m     converters\u001b[39m=\u001b[39mconverters,\n\u001b[0;32m   1218\u001b[0m     na_values\u001b[39m=\u001b[39mna_values,\n\u001b[0;32m   1219\u001b[0m     keep_default_na\u001b[39m=\u001b[39mkeep_default_na,\n\u001b[0;32m   1220\u001b[0m     displayed_only\u001b[39m=\u001b[39mdisplayed_only,\n\u001b[0;32m   1221\u001b[0m     extract_links\u001b[39m=\u001b[39mextract_links,\n\u001b[0;32m   1222\u001b[0m )\n",
      "File \u001b[1;32mc:\\ProgramData\\Anaconda3\\envs\\torchnew\\Lib\\site-packages\\pandas\\io\\html.py:1006\u001b[0m, in \u001b[0;36m_parse\u001b[1;34m(flavor, io, match, attrs, encoding, displayed_only, extract_links, **kwargs)\u001b[0m\n\u001b[0;32m   1004\u001b[0m \u001b[39melse\u001b[39;00m:\n\u001b[0;32m   1005\u001b[0m     \u001b[39massert\u001b[39;00m retained \u001b[39mis\u001b[39;00m \u001b[39mnot\u001b[39;00m \u001b[39mNone\u001b[39;00m  \u001b[39m# for mypy\u001b[39;00m\n\u001b[1;32m-> 1006\u001b[0m     \u001b[39mraise\u001b[39;00m retained\n\u001b[0;32m   1008\u001b[0m ret \u001b[39m=\u001b[39m []\n\u001b[0;32m   1009\u001b[0m \u001b[39mfor\u001b[39;00m table \u001b[39min\u001b[39;00m tables:\n",
      "File \u001b[1;32mc:\\ProgramData\\Anaconda3\\envs\\torchnew\\Lib\\site-packages\\pandas\\io\\html.py:986\u001b[0m, in \u001b[0;36m_parse\u001b[1;34m(flavor, io, match, attrs, encoding, displayed_only, extract_links, **kwargs)\u001b[0m\n\u001b[0;32m    983\u001b[0m p \u001b[39m=\u001b[39m parser(io, compiled_match, attrs, encoding, displayed_only, extract_links)\n\u001b[0;32m    985\u001b[0m \u001b[39mtry\u001b[39;00m:\n\u001b[1;32m--> 986\u001b[0m     tables \u001b[39m=\u001b[39m p\u001b[39m.\u001b[39mparse_tables()\n\u001b[0;32m    987\u001b[0m \u001b[39mexcept\u001b[39;00m \u001b[39mValueError\u001b[39;00m \u001b[39mas\u001b[39;00m caught:\n\u001b[0;32m    988\u001b[0m     \u001b[39m# if `io` is an io-like object, check if it's seekable\u001b[39;00m\n\u001b[0;32m    989\u001b[0m     \u001b[39m# and try to rewind it before trying the next parser\u001b[39;00m\n\u001b[0;32m    990\u001b[0m     \u001b[39mif\u001b[39;00m \u001b[39mhasattr\u001b[39m(io, \u001b[39m\"\u001b[39m\u001b[39mseekable\u001b[39m\u001b[39m\"\u001b[39m) \u001b[39mand\u001b[39;00m io\u001b[39m.\u001b[39mseekable():\n",
      "File \u001b[1;32mc:\\ProgramData\\Anaconda3\\envs\\torchnew\\Lib\\site-packages\\pandas\\io\\html.py:262\u001b[0m, in \u001b[0;36m_HtmlFrameParser.parse_tables\u001b[1;34m(self)\u001b[0m\n\u001b[0;32m    254\u001b[0m \u001b[39mdef\u001b[39;00m \u001b[39mparse_tables\u001b[39m(\u001b[39mself\u001b[39m):\n\u001b[0;32m    255\u001b[0m \u001b[39m    \u001b[39m\u001b[39m\"\"\"\u001b[39;00m\n\u001b[0;32m    256\u001b[0m \u001b[39m    Parse and return all tables from the DOM.\u001b[39;00m\n\u001b[0;32m    257\u001b[0m \n\u001b[1;32m   (...)\u001b[0m\n\u001b[0;32m    260\u001b[0m \u001b[39m    list of parsed (header, body, footer) tuples from tables.\u001b[39;00m\n\u001b[0;32m    261\u001b[0m \u001b[39m    \"\"\"\u001b[39;00m\n\u001b[1;32m--> 262\u001b[0m     tables \u001b[39m=\u001b[39m \u001b[39mself\u001b[39m\u001b[39m.\u001b[39m_parse_tables(\u001b[39mself\u001b[39m\u001b[39m.\u001b[39m_build_doc(), \u001b[39mself\u001b[39m\u001b[39m.\u001b[39mmatch, \u001b[39mself\u001b[39m\u001b[39m.\u001b[39mattrs)\n\u001b[0;32m    263\u001b[0m     \u001b[39mreturn\u001b[39;00m (\u001b[39mself\u001b[39m\u001b[39m.\u001b[39m_parse_thead_tbody_tfoot(table) \u001b[39mfor\u001b[39;00m table \u001b[39min\u001b[39;00m tables)\n",
      "File \u001b[1;32mc:\\ProgramData\\Anaconda3\\envs\\torchnew\\Lib\\site-packages\\pandas\\io\\html.py:618\u001b[0m, in \u001b[0;36m_BeautifulSoupHtml5LibFrameParser._parse_tables\u001b[1;34m(self, doc, match, attrs)\u001b[0m\n\u001b[0;32m    615\u001b[0m tables \u001b[39m=\u001b[39m doc\u001b[39m.\u001b[39mfind_all(element_name, attrs\u001b[39m=\u001b[39mattrs)\n\u001b[0;32m    617\u001b[0m \u001b[39mif\u001b[39;00m \u001b[39mnot\u001b[39;00m tables:\n\u001b[1;32m--> 618\u001b[0m     \u001b[39mraise\u001b[39;00m \u001b[39mValueError\u001b[39;00m(\u001b[39m\"\u001b[39m\u001b[39mNo tables found\u001b[39m\u001b[39m\"\u001b[39m)\n\u001b[0;32m    620\u001b[0m result \u001b[39m=\u001b[39m []\n\u001b[0;32m    621\u001b[0m unique_tables \u001b[39m=\u001b[39m \u001b[39mset\u001b[39m()\n",
      "\u001b[1;31mValueError\u001b[0m: No tables found"
     ]
    }
   ],
   "source": [
    "pd.read_html(table_rows[1].prettify())"
   ]
  }
 ],
 "metadata": {
  "kernelspec": {
   "display_name": "Python 3.11.3 ('torchnew')",
   "language": "python",
   "name": "python3"
  },
  "language_info": {
   "codemirror_mode": {
    "name": "ipython",
    "version": 3
   },
   "file_extension": ".py",
   "mimetype": "text/x-python",
   "name": "python",
   "nbconvert_exporter": "python",
   "pygments_lexer": "ipython3",
   "version": "3.11.3"
  },
  "orig_nbformat": 4,
  "vscode": {
   "interpreter": {
    "hash": "aae2c75324e7fdf5ebd22146e2daffaa477f8ea149f0e685be4c317c2939a685"
   }
  }
 },
 "nbformat": 4,
 "nbformat_minor": 2
}
