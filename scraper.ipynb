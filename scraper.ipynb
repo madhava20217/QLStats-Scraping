{
 "cells": [
  {
   "cell_type": "code",
   "execution_count": 1,
   "metadata": {},
   "outputs": [],
   "source": [
    "import selenium\n",
    "from selenium import webdriver\n",
    "from selenium.webdriver.common.by import By\n",
    "\n",
    "import bs4\n",
    "import re"
   ]
  },
  {
   "cell_type": "markdown",
   "metadata": {},
   "source": [
    "## For a player"
   ]
  },
  {
   "cell_type": "code",
   "execution_count": 2,
   "metadata": {},
   "outputs": [],
   "source": [
    "options = webdriver.EdgeOptions()\n",
    "# options.add_argument('headless')\n",
    "options.add_argument('inprivate')\n",
    "driver = webdriver.Edge(options= options)"
   ]
  },
  {
   "cell_type": "code",
   "execution_count": 53,
   "metadata": {},
   "outputs": [],
   "source": [
    "driver.get('https://qlstats.net/player/330308')"
   ]
  },
  {
   "cell_type": "markdown",
   "metadata": {},
   "source": [
    "### Cookie screen"
   ]
  },
  {
   "cell_type": "code",
   "execution_count": 23,
   "metadata": {},
   "outputs": [],
   "source": [
    "def is_cookie_screen(driver : selenium.webdriver):\n",
    "    '''A function to check if the given webpage is the 'accept cookies' screen.\n",
    "    Regex matches the body of the '''\n",
    "    element = driver.find_element(By.TAG_NAME, value = 'body')\n",
    "    cookie_screen = re.compile(r'.*(To continue using qlstats, you need to agree to the use of cookies.\\nAgree).*')\n",
    "    if cookie_screen.search(element.text) is None:\n",
    "        return False\n",
    "    return True\n"
   ]
  },
  {
   "cell_type": "code",
   "execution_count": 24,
   "metadata": {},
   "outputs": [],
   "source": [
    "#press the button\n",
    "if is_cookie_screen(driver):\n",
    "    try:\n",
    "        button = driver.find_element(By.TAG_NAME, 'button')\n",
    "        button.click()\n",
    "    except:\n",
    "        \"Cookies could not be accepted, please recheck\""
   ]
  },
  {
   "cell_type": "markdown",
   "metadata": {},
   "source": [
    "### Scraping the player page"
   ]
  },
  {
   "cell_type": "code",
   "execution_count": 26,
   "metadata": {},
   "outputs": [],
   "source": [
    "from bs4 import BeautifulSoup"
   ]
  },
  {
   "cell_type": "code",
   "execution_count": 55,
   "metadata": {},
   "outputs": [],
   "source": [
    "soup = BeautifulSoup(driver.page_source, 'lxml')\n"
   ]
  },
  {
   "cell_type": "code",
   "execution_count": 56,
   "metadata": {},
   "outputs": [
    {
     "name": "stdout",
     "output_type": "stream",
     "text": [
      "Player name:\n",
      "BOOBISHA\n"
     ]
    }
   ],
   "source": [
    "# finding player name\n",
    "player_name = soup.select_one('h2').text\n",
    "print('Player name:\\n{}'.format(player_name))\n",
    "\n",
    "#for unavailable IDs:\n",
    "if re.match(r\"Sorry, that player wasn't found!\", player_name):\n",
    "    print(\"Player not found, can't proceed\")\n",
    "\n",
    "else:\n",
    "    pass\n",
    "    #TODO Scrape here"
   ]
  },
  {
   "cell_type": "code",
   "execution_count": 57,
   "metadata": {},
   "outputs": [
    {
     "data": {
      "text/plain": [
       "['Region: Europe',\n",
       " 'Player ID: 330308',\n",
       " 'Steam ID: 76561198062475631',\n",
       " 'Joined: 2021-04-28   16:22:30',\n",
       " 'Status: active']"
      ]
     },
     "execution_count": 57,
     "metadata": {},
     "output_type": "execute_result"
    }
   ],
   "source": [
    "# parse information from the p tab\n",
    "p_tab_text = soup.select_one('p').text\n",
    "p_tab_list = list(map(str.strip, p_tab_text.split(\"\\n\")))\n",
    "p_tab_list = [x for x in p_tab_list if x != '']\n",
    "\n",
    "p_tab_list"
   ]
  },
  {
   "cell_type": "code",
   "execution_count": null,
   "metadata": {},
   "outputs": [
    {
     "ename": "NoSuchElementException",
     "evalue": "Message: no such element: Unable to locate element: {\"method\":\"css selector\",\"selector\":\".tab-overall\"}\n  (Session info: MicrosoftEdge=108.0.1462.54)\nStacktrace:\nBacktrace:\n\tMicrosoft::Applications::Events::EventProperties::SetProperty [0x00007FF78B9691D2+14306]\n\tMicrosoft::Applications::Events::EventProperty::EventProperty [0x00007FF78B8F0992+842866]\n\t(No symbol) [0x00007FF78B5A1D90]\n\t(No symbol) [0x00007FF78B5E5928]\n\t(No symbol) [0x00007FF78B5E5C10]\n\t(No symbol) [0x00007FF78B622507]\n\t(No symbol) [0x00007FF78B605D6F]\n\t(No symbol) [0x00007FF78B5D836E]\n\t(No symbol) [0x00007FF78B61F70C]\n\t(No symbol) [0x00007FF78B605B03]\n\t(No symbol) [0x00007FF78B5D73B8]\n\t(No symbol) [0x00007FF78B5D638E]\n\t(No symbol) [0x00007FF78B5D7AE4]\n\tMicrosoft::Applications::Events::EventProperty::EventProperty [0x00007FF78B83FE18+119032]\n\tMicrosoft::Applications::Events::EventProperty::EventProperty [0x00007FF78B82D4D6+42934]\n\tMicrosoft::Applications::Events::EventProperty::EventProperty [0x00007FF78B8306EC+55756]\n\t(No symbol) [0x00007FF78B6A7923]\n\tMicrosoft::Applications::Events::EventProperty::EventProperty [0x00007FF78B8F844A+874282]\n\tMicrosoft::Applications::Events::EventProperty::EventProperty [0x00007FF78B8FD544+895012]\n\tMicrosoft::Applications::Events::EventProperty::EventProperty [0x00007FF78B8FD69C+895356]\n\tMicrosoft::Applications::Events::EventProperty::EventProperty [0x00007FF78B9067BE+932510]\n\tBaseThreadInitThunk [0x00007FFD48CA26BD+29]\n\tRtlUserThreadStart [0x00007FFD4AA2DFB8+40]\n",
     "output_type": "error",
     "traceback": [
      "\u001b[1;31m---------------------------------------------------------------------------\u001b[0m\n",
      "\u001b[1;31mNoSuchElementException\u001b[0m                    Traceback (most recent call last)\n",
      "Cell \u001b[1;32mIn [46], line 2\u001b[0m\n",
      "\u001b[0;32m      1\u001b[0m \u001b[38;5;66;03m# reached the player page, press the overall button\u001b[39;00m\n",
      "\u001b[1;32m----> 2\u001b[0m button \u001b[38;5;241m=\u001b[39m \u001b[43mdriver\u001b[49m\u001b[38;5;241;43m.\u001b[39;49m\u001b[43mfind_element\u001b[49m\u001b[43m(\u001b[49m\u001b[43mBy\u001b[49m\u001b[38;5;241;43m.\u001b[39;49m\u001b[43mCLASS_NAME\u001b[49m\u001b[43m,\u001b[49m\u001b[43m \u001b[49m\u001b[38;5;124;43m'\u001b[39;49m\u001b[38;5;124;43mtab-overall\u001b[39;49m\u001b[38;5;124;43m'\u001b[39;49m\u001b[43m)\u001b[49m\n",
      "\u001b[0;32m      3\u001b[0m button\u001b[38;5;241m.\u001b[39mclick()\n",
      "\n",
      "File \u001b[1;32mc:\\ProgramData\\Anaconda3\\envs\\ml\\lib\\site-packages\\selenium\\webdriver\\remote\\webdriver.py:861\u001b[0m, in \u001b[0;36mWebDriver.find_element\u001b[1;34m(self, by, value)\u001b[0m\n",
      "\u001b[0;32m    858\u001b[0m     by \u001b[39m=\u001b[39m By\u001b[39m.\u001b[39mCSS_SELECTOR\n",
      "\u001b[0;32m    859\u001b[0m     value \u001b[39m=\u001b[39m \u001b[39m'\u001b[39m\u001b[39m[name=\u001b[39m\u001b[39m\"\u001b[39m\u001b[39m%s\u001b[39;00m\u001b[39m\"\u001b[39m\u001b[39m]\u001b[39m\u001b[39m'\u001b[39m \u001b[39m%\u001b[39m value\n",
      "\u001b[1;32m--> 861\u001b[0m \u001b[39mreturn\u001b[39;00m \u001b[39mself\u001b[39;49m\u001b[39m.\u001b[39;49mexecute(Command\u001b[39m.\u001b[39;49mFIND_ELEMENT, {\u001b[39m\"\u001b[39;49m\u001b[39musing\u001b[39;49m\u001b[39m\"\u001b[39;49m: by, \u001b[39m\"\u001b[39;49m\u001b[39mvalue\u001b[39;49m\u001b[39m\"\u001b[39;49m: value})[\u001b[39m\"\u001b[39m\u001b[39mvalue\u001b[39m\u001b[39m\"\u001b[39m]\n",
      "\n",
      "File \u001b[1;32mc:\\ProgramData\\Anaconda3\\envs\\ml\\lib\\site-packages\\selenium\\webdriver\\remote\\webdriver.py:444\u001b[0m, in \u001b[0;36mWebDriver.execute\u001b[1;34m(self, driver_command, params)\u001b[0m\n",
      "\u001b[0;32m    442\u001b[0m response \u001b[39m=\u001b[39m \u001b[39mself\u001b[39m\u001b[39m.\u001b[39mcommand_executor\u001b[39m.\u001b[39mexecute(driver_command, params)\n",
      "\u001b[0;32m    443\u001b[0m \u001b[39mif\u001b[39;00m response:\n",
      "\u001b[1;32m--> 444\u001b[0m     \u001b[39mself\u001b[39;49m\u001b[39m.\u001b[39;49merror_handler\u001b[39m.\u001b[39;49mcheck_response(response)\n",
      "\u001b[0;32m    445\u001b[0m     response[\u001b[39m\"\u001b[39m\u001b[39mvalue\u001b[39m\u001b[39m\"\u001b[39m] \u001b[39m=\u001b[39m \u001b[39mself\u001b[39m\u001b[39m.\u001b[39m_unwrap_value(response\u001b[39m.\u001b[39mget(\u001b[39m\"\u001b[39m\u001b[39mvalue\u001b[39m\u001b[39m\"\u001b[39m, \u001b[39mNone\u001b[39;00m))\n",
      "\u001b[0;32m    446\u001b[0m     \u001b[39mreturn\u001b[39;00m response\n",
      "\n",
      "File \u001b[1;32mc:\\ProgramData\\Anaconda3\\envs\\ml\\lib\\site-packages\\selenium\\webdriver\\remote\\errorhandler.py:249\u001b[0m, in \u001b[0;36mErrorHandler.check_response\u001b[1;34m(self, response)\u001b[0m\n",
      "\u001b[0;32m    247\u001b[0m         alert_text \u001b[39m=\u001b[39m value[\u001b[39m\"\u001b[39m\u001b[39malert\u001b[39m\u001b[39m\"\u001b[39m]\u001b[39m.\u001b[39mget(\u001b[39m\"\u001b[39m\u001b[39mtext\u001b[39m\u001b[39m\"\u001b[39m)\n",
      "\u001b[0;32m    248\u001b[0m     \u001b[39mraise\u001b[39;00m exception_class(message, screen, stacktrace, alert_text)  \u001b[39m# type: ignore[call-arg]  # mypy is not smart enough here\u001b[39;00m\n",
      "\u001b[1;32m--> 249\u001b[0m \u001b[39mraise\u001b[39;00m exception_class(message, screen, stacktrace)\n",
      "\n",
      "\u001b[1;31mNoSuchElementException\u001b[0m: Message: no such element: Unable to locate element: {\"method\":\"css selector\",\"selector\":\".tab-overall\"}\n",
      "  (Session info: MicrosoftEdge=108.0.1462.54)\n",
      "Stacktrace:\n",
      "Backtrace:\n",
      "\tMicrosoft::Applications::Events::EventProperties::SetProperty [0x00007FF78B9691D2+14306]\n",
      "\tMicrosoft::Applications::Events::EventProperty::EventProperty [0x00007FF78B8F0992+842866]\n",
      "\t(No symbol) [0x00007FF78B5A1D90]\n",
      "\t(No symbol) [0x00007FF78B5E5928]\n",
      "\t(No symbol) [0x00007FF78B5E5C10]\n",
      "\t(No symbol) [0x00007FF78B622507]\n",
      "\t(No symbol) [0x00007FF78B605D6F]\n",
      "\t(No symbol) [0x00007FF78B5D836E]\n",
      "\t(No symbol) [0x00007FF78B61F70C]\n",
      "\t(No symbol) [0x00007FF78B605B03]\n",
      "\t(No symbol) [0x00007FF78B5D73B8]\n",
      "\t(No symbol) [0x00007FF78B5D638E]\n",
      "\t(No symbol) [0x00007FF78B5D7AE4]\n",
      "\tMicrosoft::Applications::Events::EventProperty::EventProperty [0x00007FF78B83FE18+119032]\n",
      "\tMicrosoft::Applications::Events::EventProperty::EventProperty [0x00007FF78B82D4D6+42934]\n",
      "\tMicrosoft::Applications::Events::EventProperty::EventProperty [0x00007FF78B8306EC+55756]\n",
      "\t(No symbol) [0x00007FF78B6A7923]\n",
      "\tMicrosoft::Applications::Events::EventProperty::EventProperty [0x00007FF78B8F844A+874282]\n",
      "\tMicrosoft::Applications::Events::EventProperty::EventProperty [0x00007FF78B8FD544+895012]\n",
      "\tMicrosoft::Applications::Events::EventProperty::EventProperty [0x00007FF78B8FD69C+895356]\n",
      "\tMicrosoft::Applications::Events::EventProperty::EventProperty [0x00007FF78B9067BE+932510]\n",
      "\tBaseThreadInitThunk [0x00007FFD48CA26BD+29]\n",
      "\tRtlUserThreadStart [0x00007FFD4AA2DFB8+40]\n"
     ]
    }
   ],
   "source": [
    "# press the overall button on the player page\n",
    "button = driver.find_element(By.CLASS_NAME, 'tab-overall')\n",
    "button.click()"
   ]
  },
  {
   "cell_type": "code",
   "execution_count": null,
   "metadata": {},
   "outputs": [],
   "source": [
    "for x in p_tab_list:\n",
    "    "
   ]
  },
  {
   "cell_type": "code",
   "execution_count": 30,
   "metadata": {},
   "outputs": [
    {
     "data": {
      "text/plain": [
       "<div class=\"navbar-header\">\n",
       "<a class=\"navbar-toggle\" data-target=\".navbar-collapse\" data-toggle=\"collapse\">\n",
       "<span class=\"icon-bar\"></span>\n",
       "<span class=\"icon-bar\"></span>\n",
       "<span class=\"icon-bar\"></span>\n",
       "</a>\n",
       "<a class=\"navbar-brand\" href=\"/\">\n",
       "<img alt=\"QL Logo\" height=\"32\" src=\"/static/css/img/menu_icon.png\" style=\"float:left;margin-top:-5px;margin-right:10px;-webkit-filter: drop-shadow(0px 5px 5px grey);\" width=\"32\"/>\n",
       "        QLStats\n",
       "      </a>\n",
       "</div>"
      ]
     },
     "execution_count": 30,
     "metadata": {},
     "output_type": "execute_result"
    }
   ],
   "source": [
    "# parse winrate and elo info\n",
    "soup.select('div', class_ = 'row tab-pane active')[1]"
   ]
  },
  {
   "cell_type": "code",
   "execution_count": null,
   "metadata": {},
   "outputs": [],
   "source": []
  },
  {
   "cell_type": "code",
   "execution_count": 31,
   "metadata": {},
   "outputs": [
    {
     "data": {
      "text/plain": [
       "[<table class=\"table table-hover table-condensed\">\n",
       " <thead>\n",
       " <tr>\n",
       " <th>#</th>\n",
       " <th></th>\n",
       " <th>Played</th>\n",
       " <th>Type</th>\n",
       " <th>Server</th>\n",
       " <th>Map</th>\n",
       " <th>Result</th>\n",
       " <th>Opponent</th>\n",
       " <th>Rating</th>\n",
       " <th title=\"Rating ± Uncertainty\">Old Glicko</th>\n",
       " <th title=\"Rating / Uncertainty\">Glicko Change</th>\n",
       " </tr>\n",
       " </thead>\n",
       " <tbody>\n",
       " </tbody>\n",
       " </table>]"
      ]
     },
     "execution_count": 31,
     "metadata": {},
     "output_type": "execute_result"
    }
   ],
   "source": [
    "soup.findAll('table', class_= 'table table-hover table-condensed')"
   ]
  },
  {
   "cell_type": "markdown",
   "metadata": {},
   "source": [
    "### Shut down the browser"
   ]
  },
  {
   "cell_type": "code",
   "execution_count": 32,
   "metadata": {},
   "outputs": [],
   "source": [
    "# driver.close()"
   ]
  }
 ],
 "metadata": {
  "kernelspec": {
   "display_name": "Python 3.10.0 ('ml')",
   "language": "python",
   "name": "python3"
  },
  "language_info": {
   "codemirror_mode": {
    "name": "ipython",
    "version": 3
   },
   "file_extension": ".py",
   "mimetype": "text/x-python",
   "name": "python",
   "nbconvert_exporter": "python",
   "pygments_lexer": "ipython3",
   "version": "3.10.0"
  },
  "orig_nbformat": 4,
  "vscode": {
   "interpreter": {
    "hash": "c58e9361bde7ca617934da376e83056db506761bdc9593ca2087fabac973f609"
   }
  }
 },
 "nbformat": 4,
 "nbformat_minor": 2
}
