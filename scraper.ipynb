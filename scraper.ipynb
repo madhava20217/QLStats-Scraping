{
 "cells": [
  {
   "cell_type": "code",
   "execution_count": 9,
   "metadata": {},
   "outputs": [],
   "source": [
    "import selenium\n",
    "from selenium import webdriver\n",
    "from selenium.webdriver.common.by import By\n",
    "\n",
    "import bs4\n",
    "import re"
   ]
  },
  {
   "cell_type": "markdown",
   "metadata": {},
   "source": [
    "## For a player"
   ]
  },
  {
   "cell_type": "code",
   "execution_count": 10,
   "metadata": {},
   "outputs": [],
   "source": [
    "options = webdriver.EdgeOptions()\n",
    "# options.add_argument('headless')\n",
    "options.add_argument('inprivate')\n",
    "driver = webdriver.Edge(options= options)"
   ]
  },
  {
   "cell_type": "code",
   "execution_count": 11,
   "metadata": {},
   "outputs": [],
   "source": [
    "driver.get('https://qlstats.net/player/63562')"
   ]
  },
  {
   "cell_type": "markdown",
   "metadata": {},
   "source": [
    "### Cookie screen"
   ]
  },
  {
   "cell_type": "code",
   "execution_count": 12,
   "metadata": {},
   "outputs": [],
   "source": [
    "def is_cookie_screen(driver : selenium.webdriver):\n",
    "    '''A function to check if the given webpage is the 'accept cookies' screen.\n",
    "    Regex matches the body of the '''\n",
    "    element = driver.find_element(By.TAG_NAME, value = 'body')\n",
    "    cookie_screen = re.compile(r'.*(To continue using qlstats, you need to agree to the use of cookies.\\nAgree).*')\n",
    "    if cookie_screen.search(element.text) is None:\n",
    "        return False\n",
    "    return True\n"
   ]
  },
  {
   "cell_type": "code",
   "execution_count": 13,
   "metadata": {},
   "outputs": [],
   "source": [
    "#press the button\n",
    "if is_cookie_screen(driver):\n",
    "    try:\n",
    "        button = driver.find_element(By.TAG_NAME, 'button')\n",
    "        button.click()\n",
    "    except:\n",
    "        \"Cookies could not be accepted, please recheck\""
   ]
  },
  {
   "cell_type": "markdown",
   "metadata": {},
   "source": [
    "### Scraping the player page"
   ]
  },
  {
   "cell_type": "code",
   "execution_count": 14,
   "metadata": {},
   "outputs": [],
   "source": [
    "from bs4 import BeautifulSoup"
   ]
  },
  {
   "cell_type": "code",
   "execution_count": 15,
   "metadata": {},
   "outputs": [],
   "source": [
    "soup = BeautifulSoup(driver.page_source, 'lxml')\n"
   ]
  },
  {
   "cell_type": "code",
   "execution_count": 16,
   "metadata": {},
   "outputs": [
    {
     "name": "stdout",
     "output_type": "stream",
     "text": [
      "Player name:\n",
      "A S U R A\n"
     ]
    }
   ],
   "source": [
    "# finding player name\n",
    "player_name = soup.select_one('h2').text\n",
    "print('Player name:\\n{}'.format(player_name))\n",
    "\n",
    "#for unavailable IDs:\n",
    "if re.match(r\"Sorry, that player wasn't found!\", player_name):\n",
    "    print(\"Player not found, can't proceed\")\n",
    "\n",
    "else:\n",
    "    pass\n",
    "    #TODO Scrape here"
   ]
  },
  {
   "cell_type": "code",
   "execution_count": null,
   "metadata": {},
   "outputs": [],
   "source": []
  },
  {
   "cell_type": "markdown",
   "metadata": {},
   "source": [
    "### ELSE tag here onwards\n",
    "\n",
    "- p_tab_list\n",
    "- player_info\n",
    "- games_played\n",
    "- type_stats\n",
    "\n",
    "dictionaries"
   ]
  },
  {
   "cell_type": "code",
   "execution_count": 17,
   "metadata": {},
   "outputs": [
    {
     "data": {
      "text/plain": [
       "['Region: Asia',\n",
       " 'Player ID: 63562',\n",
       " 'Steam ID: 76561197968261050',\n",
       " 'Joined: 2016-02-15   22:51:44',\n",
       " 'Status: active']"
      ]
     },
     "execution_count": 17,
     "metadata": {},
     "output_type": "execute_result"
    }
   ],
   "source": [
    "# parse information from the p tab\n",
    "p_tab_text = soup.select_one('p').text\n",
    "p_tab_list = list(map(str.strip, p_tab_text.split(\"\\n\")))\n",
    "p_tab_list = [x for x in p_tab_list if x != '']\n",
    "\n",
    "p_tab_list"
   ]
  },
  {
   "cell_type": "markdown",
   "metadata": {},
   "source": [
    "#### Split and store in dictionary"
   ]
  },
  {
   "cell_type": "code",
   "execution_count": 18,
   "metadata": {},
   "outputs": [
    {
     "data": {
      "text/plain": [
       "{'name': 'A S U R A',\n",
       " 'Region': 'Asia',\n",
       " 'Player ID': '63562',\n",
       " 'Steam ID': '76561197968261050',\n",
       " 'Joined': '2016-02-15   22:51:44',\n",
       " 'Status': 'active'}"
      ]
     },
     "execution_count": 18,
     "metadata": {},
     "output_type": "execute_result"
    }
   ],
   "source": [
    "player_info = {'name' : player_name}\n",
    "for x in p_tab_list:\n",
    "    elements = x.split(\": \")\n",
    "    player_info[elements[0]] = elements[1]\n",
    "\n",
    "player_info"
   ]
  },
  {
   "cell_type": "code",
   "execution_count": 19,
   "metadata": {},
   "outputs": [],
   "source": [
    "# press the overall button on the player page\n",
    "button = driver.find_element(By.CLASS_NAME, 'tab-overall')\n",
    "button.click()"
   ]
  },
  {
   "cell_type": "code",
   "execution_count": 41,
   "metadata": {},
   "outputs": [
    {
     "data": {
      "text/plain": [
       "7340"
      ]
     },
     "execution_count": 41,
     "metadata": {},
     "output_type": "execute_result"
    }
   ],
   "source": [
    "num = '(7340)'\n",
    "int(num[1:-1])"
   ]
  },
  {
   "cell_type": "code",
   "execution_count": 47,
   "metadata": {},
   "outputs": [
    {
     "data": {
      "text/plain": [
       "{'overall': 7538,\n",
       " 'ca': 6677,\n",
       " 'duel': 731,\n",
       " 'ffa': 122,\n",
       " 'ctf': 3,\n",
       " 'rr': 2,\n",
       " 'tdm': 2,\n",
       " 'dom': 1}"
      ]
     },
     "execution_count": 47,
     "metadata": {},
     "output_type": "execute_result"
    }
   ],
   "source": [
    "games_played = {}\n",
    "\n",
    "gametypes = soup.find('ul', id = 'gbtab').text\n",
    "gametypes = [x.strip() for x in gametypes.split('\\n') if x != '']\n",
    "\n",
    "for i in range(len(gametypes)//2):\n",
    "    t, n = gametypes[i*2], gametypes[2*i+1][1:-1]\n",
    "    games_played[t] = int(n)\n",
    "\n",
    "games_played"
   ]
  },
  {
   "cell_type": "code",
   "execution_count": 56,
   "metadata": {},
   "outputs": [
    {
     "data": {
      "text/plain": [
       "['Win Rate: 47.89% (3610 wins, 3928 losses)',\n",
       " 'Kill Ratio:',\n",
       " '0.88 (68190 kills, 77496 deaths)',\n",
       " 'Cap Ratio:',\n",
       " '-',\n",
       " 'Best Rating: 1500 ± 300 (tdm, 0 games)',\n",
       " 'Best B-Rating: TBD',\n",
       " 'Best Rank:',\n",
       " '58 of 1485',\n",
       " '(ca, top 3.84%)',\n",
       " 'Last Played:',\n",
       " '21:58:51',\n",
       " 'Games Played:',\n",
       " '7538',\n",
       " 'Favorite Map:',\n",
       " 'campgrounds']"
      ]
     },
     "execution_count": 56,
     "metadata": {},
     "output_type": "execute_result"
    }
   ],
   "source": [
    "# parse winrate and elo info\n",
    "type_stats = soup.find('div', id = 'tab-{}'.format('overall')).text\n",
    "type_stats = type_stats.split('\\n')\n",
    "type_stats = [x.strip() for x in type_stats if x.strip() != '']\n",
    "type_stats"
   ]
  },
  {
   "cell_type": "code",
   "execution_count": null,
   "metadata": {},
   "outputs": [],
   "source": []
  },
  {
   "cell_type": "code",
   "execution_count": null,
   "metadata": {},
   "outputs": [
    {
     "data": {
      "text/plain": [
       "[<table class=\"table table-hover table-condensed\">\n",
       " <thead>\n",
       " <tr>\n",
       " <th>#</th>\n",
       " <th></th>\n",
       " <th>Played</th>\n",
       " <th>Type</th>\n",
       " <th>Server</th>\n",
       " <th>Map</th>\n",
       " <th>Result</th>\n",
       " <th>Opponent</th>\n",
       " <th>Rating</th>\n",
       " <th title=\"Rating ± Uncertainty\">Old Glicko</th>\n",
       " <th title=\"Rating / Uncertainty\">Glicko Change</th>\n",
       " </tr>\n",
       " </thead>\n",
       " <tbody>\n",
       " </tbody>\n",
       " </table>]"
      ]
     },
     "execution_count": 31,
     "metadata": {},
     "output_type": "execute_result"
    }
   ],
   "source": [
    "soup.findAll('table', class_= 'table table-hover table-condensed')"
   ]
  },
  {
   "cell_type": "markdown",
   "metadata": {},
   "source": [
    "### Shut down the browser"
   ]
  },
  {
   "cell_type": "code",
   "execution_count": null,
   "metadata": {},
   "outputs": [],
   "source": [
    "# driver.close()"
   ]
  }
 ],
 "metadata": {
  "kernelspec": {
   "display_name": "Python 3.10.0 ('ml')",
   "language": "python",
   "name": "python3"
  },
  "language_info": {
   "codemirror_mode": {
    "name": "ipython",
    "version": 3
   },
   "file_extension": ".py",
   "mimetype": "text/x-python",
   "name": "python",
   "nbconvert_exporter": "python",
   "pygments_lexer": "ipython3",
   "version": "3.10.0"
  },
  "orig_nbformat": 4,
  "vscode": {
   "interpreter": {
    "hash": "c58e9361bde7ca617934da376e83056db506761bdc9593ca2087fabac973f609"
   }
  }
 },
 "nbformat": 4,
 "nbformat_minor": 2
}
