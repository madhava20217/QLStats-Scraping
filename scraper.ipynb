{
 "cells": [
  {
   "cell_type": "code",
   "execution_count": 2,
   "metadata": {},
   "outputs": [],
   "source": [
    "import selenium\n",
    "from selenium import webdriver\n",
    "from selenium.webdriver.common.by import By\n",
    "\n",
    "import bs4\n",
    "import re\n",
    "\n",
    "import pandas as pd"
   ]
  },
  {
   "cell_type": "markdown",
   "metadata": {},
   "source": [
    "## For a player"
   ]
  },
  {
   "cell_type": "code",
   "execution_count": 3,
   "metadata": {},
   "outputs": [],
   "source": [
    "options = webdriver.EdgeOptions()\n",
    "# options.add_argument('headless')\n",
    "options.add_argument('inprivate')\n",
    "driver = webdriver.Edge(options= options)"
   ]
  },
  {
   "cell_type": "code",
   "execution_count": 4,
   "metadata": {},
   "outputs": [],
   "source": [
    "driver.get('https://qlstats.net/player/330308')"
   ]
  },
  {
   "cell_type": "markdown",
   "metadata": {},
   "source": [
    "### Cookie screen"
   ]
  },
  {
   "cell_type": "code",
   "execution_count": 5,
   "metadata": {},
   "outputs": [],
   "source": [
    "def is_cookie_screen(driver : selenium.webdriver):\n",
    "    '''A function to check if the given webpage is the 'accept cookies' screen.\n",
    "    Regex matches the body of the '''\n",
    "    element = driver.find_element(By.TAG_NAME, value = 'body')\n",
    "    cookie_screen = re.compile(r'.*(To continue using qlstats, you need to agree to the use of cookies.\\nAgree).*')\n",
    "    if cookie_screen.search(element.text) is None:\n",
    "        return False\n",
    "    return True\n"
   ]
  },
  {
   "cell_type": "code",
   "execution_count": 6,
   "metadata": {},
   "outputs": [],
   "source": [
    "#press the button\n",
    "if is_cookie_screen(driver):\n",
    "    try:\n",
    "        button = driver.find_element(By.TAG_NAME, 'button')\n",
    "        button.click()\n",
    "    except:\n",
    "        \"Cookies could not be accepted, please recheck\""
   ]
  },
  {
   "cell_type": "markdown",
   "metadata": {},
   "source": [
    "### Scraping the player page"
   ]
  },
  {
   "cell_type": "code",
   "execution_count": 7,
   "metadata": {},
   "outputs": [],
   "source": [
    "from bs4 import BeautifulSoup"
   ]
  },
  {
   "cell_type": "code",
   "execution_count": 8,
   "metadata": {},
   "outputs": [],
   "source": [
    "soup = BeautifulSoup(driver.page_source, 'lxml')\n"
   ]
  },
  {
   "cell_type": "code",
   "execution_count": 9,
   "metadata": {},
   "outputs": [
    {
     "name": "stdout",
     "output_type": "stream",
     "text": [
      "Player name:\n",
      "FOG\n"
     ]
    }
   ],
   "source": [
    "# finding player name\n",
    "player_name = soup.select_one('h2').text\n",
    "print('Player name:\\n{}'.format(player_name))\n",
    "\n",
    "#for unavailable IDs:\n",
    "if re.match(r\"Sorry, that player wasn't found!\", player_name):\n",
    "    print(\"Player not found, can't proceed\")\n",
    "\n",
    "else:\n",
    "    pass\n",
    "    #TODO Scrape here"
   ]
  },
  {
   "cell_type": "markdown",
   "metadata": {},
   "source": [
    "### ELSE tag here onwards\n",
    "\n",
    "- p_tab_list\n",
    "- player_info\n",
    "- games_played\n",
    "- type_stats\n",
    "\n",
    "dictionaries"
   ]
  },
  {
   "cell_type": "code",
   "execution_count": 10,
   "metadata": {},
   "outputs": [
    {
     "data": {
      "text/plain": [
       "['Region: Europe',\n",
       " 'Player ID: 330308',\n",
       " 'Steam ID: 76561198062475631',\n",
       " 'Joined: 2021-04-28   16:22:30',\n",
       " 'Status: active']"
      ]
     },
     "execution_count": 10,
     "metadata": {},
     "output_type": "execute_result"
    }
   ],
   "source": [
    "# parse information from the p tab\n",
    "p_tab_text = soup.select_one('p').text\n",
    "p_tab_list = list(map(str.strip, p_tab_text.split(\"\\n\")))\n",
    "p_tab_list = [x for x in p_tab_list if x != '']\n",
    "\n",
    "p_tab_list"
   ]
  },
  {
   "cell_type": "markdown",
   "metadata": {},
   "source": [
    "#### Split and store in dictionary"
   ]
  },
  {
   "cell_type": "code",
   "execution_count": 11,
   "metadata": {},
   "outputs": [
    {
     "data": {
      "text/plain": [
       "{'name': 'FOG',\n",
       " 'Region': 'Europe',\n",
       " 'Player ID': '330308',\n",
       " 'Steam ID': '76561198062475631',\n",
       " 'Joined': '2021-04-28   16:22:30',\n",
       " 'Status': 'active'}"
      ]
     },
     "execution_count": 11,
     "metadata": {},
     "output_type": "execute_result"
    }
   ],
   "source": [
    "player_info = {'name' : player_name}\n",
    "for x in p_tab_list:\n",
    "    elements = x.split(\": \")\n",
    "    player_info[elements[0]] = elements[1]\n",
    "\n",
    "player_info"
   ]
  },
  {
   "cell_type": "code",
   "execution_count": 12,
   "metadata": {},
   "outputs": [],
   "source": [
    "# press the overall button on the player page\n",
    "button = driver.find_element(By.CLASS_NAME, 'tab-overall')\n",
    "button.click()"
   ]
  },
  {
   "cell_type": "code",
   "execution_count": 13,
   "metadata": {},
   "outputs": [
    {
     "data": {
      "text/plain": [
       "{'ca': 491, 'duel': 19, 'ffa': 1}"
      ]
     },
     "execution_count": 13,
     "metadata": {},
     "output_type": "execute_result"
    }
   ],
   "source": [
    "games_played = {}\n",
    "\n",
    "gametypes = soup.find('ul', id = 'gbtab').text\n",
    "gametypes = [x.strip() for x in gametypes.split('\\n') if x != '']\n",
    "\n",
    "for i in range(len(gametypes)//2):\n",
    "    t, n = gametypes[i*2], gametypes[2*i+1][1:-1]\n",
    "    games_played[t] = int(n)\n",
    "\n",
    "games_played.pop('overall')\n",
    "games_played"
   ]
  },
  {
   "cell_type": "code",
   "execution_count": 18,
   "metadata": {},
   "outputs": [],
   "source": [
    "winrate_extractor = re.compile(r\"([0-9]+\\.?[0-9]*).*\\((\\d+).*, ([0-9]+).*\")\n",
    "kdRatio_extractor = re.compile(r\"(\\d+\\.?\\d+) \\((\\d+).*, (\\d+).*\")\n",
    "capRatio_extractor = re.compile(r'(.*)')\n",
    "elo_extractor = re.compile(r\"([0-9]+) ± ([0-9]+).*, ([0-9]+).*\")\n",
    "rank_extractor = re.compile(r\"([0-9]+) of ([0-9]+).*\")\n",
    "\n",
    "extractors = [winrate_extractor, kdRatio_extractor, capRatio_extractor, elo_extractor, elo_extractor, rank_extractor]"
   ]
  },
  {
   "cell_type": "code",
   "execution_count": 19,
   "metadata": {},
   "outputs": [],
   "source": [
    "def parse_gametype_stats(data:tuple):\n",
    "    '''Function for parsing the stats info given a tuple of\n",
    "    - winrate\n",
    "    - cap ratio\n",
    "    - elo\n",
    "    - b-elo\n",
    "    - rank\n",
    "    -last played\n",
    "    - games played\n",
    "    - fav map\n",
    "    \n",
    "    Returns a dictionary containing parsed info and keys:\n",
    "    winrate, cap_ratio, elo (ordered-tuple as value), b-elo (ordered-tuple as value), rank (ordered-tuple as value), last_played, num_games, fav_map'''\n",
    "    ret_dict = {}\n",
    "    keys = ['winrate', 'cap_ratio', 'elo', 'b-elo', 'rank', 'last_played', 'num_games', 'fav_map']\n",
    "    for i in range(6):\n",
    "        try:\n",
    "            ext = extractors[i]\n",
    "            to_parse = data[i]\n",
    "            ret_dict[keys[i]] = ext.search(to_parse)\n",
    "        except:\n",
    "            ret_dict[keys[i]] = '-'\n",
    "    return ret_dict\n",
    "    "
   ]
  },
  {
   "cell_type": "code",
   "execution_count": 14,
   "metadata": {},
   "outputs": [
    {
     "name": "stdout",
     "output_type": "stream",
     "text": [
      "Win Rate: 65.78% (323 wins, 168 losses) Kill Ratio: 1.52 (6936 kills, 4554 deaths) Cap Ratio: - Rating: 1408 ± 37 (ca, 3326 games) B-Rating: 1211 ± 48 (ca, 116 games) Rank: 257 of 1515 (top 16.91%) Last Played: 22:54:29 Games Played: 491 Favorite Map: campgrounds\n"
     ]
    },
    {
     "data": {
      "text/plain": [
       "('65.78% (323 wins, 168 losses)',\n",
       " '1.52 (6936 kills, 4554 deaths)',\n",
       " '-',\n",
       " '1408 ± 37 (ca, 3326 games)',\n",
       " '1211 ± 48 (ca, 116 games)',\n",
       " '257 of 1515 (top 16.91%)',\n",
       " '22:54:29',\n",
       " '491',\n",
       " 'campgrounds')"
      ]
     },
     "execution_count": 14,
     "metadata": {},
     "output_type": "execute_result"
    }
   ],
   "source": [
    "def parse_stats(soup, gametypes):\n",
    "\n",
    "    # parse winrate and elo info\n",
    "    type_stats = soup.find('div', id = 'tab-{}'.format('gametype')).text\n",
    "    type_stats = type_stats.split('\\n')\n",
    "    type_stats = [x.strip() for x in type_stats if x.strip() != '']\n",
    "    stringy = \" \".join(type_stats)\n",
    "    print(stringy)\n",
    "\n",
    "\n",
    "    stat_extractor = re.compile(r\"Win Rate: (.*) Kill Ratio: (.*) Cap Ratio: (.*) Rating: (.*) B-Rating: (.*) Rank: (.*) Last Played: (.*) Games Played: (.*) Favorite Map: (.*)\")\n",
    "    res = stat_extractor.search(stringy)\n",
    "    res.groups()\n",
    "\n",
    "\n",
    "    #there is winrate, kill ratio, cap ratio, rating, b-rating, rank, last played games played favorite map\n",
    "    "
   ]
  },
  {
   "cell_type": "markdown",
   "metadata": {},
   "source": [
    "Flow is something like this:\n",
    "- Winrate\n",
    "- K/D ratio\n",
    "- Cap Ratio\n",
    "- ELO\n",
    "- B-ELO\n",
    "- Rank\n",
    "- Last Played\n",
    "- Games played\n",
    "- Favourite map"
   ]
  },
  {
   "cell_type": "code",
   "execution_count": null,
   "metadata": {},
   "outputs": [],
   "source": []
  },
  {
   "cell_type": "markdown",
   "metadata": {},
   "source": [
    "Overall tab just has the latest/maximal values from the other tabs."
   ]
  },
  {
   "cell_type": "code",
   "execution_count": 16,
   "metadata": {},
   "outputs": [
    {
     "data": {
      "text/plain": [
       "[<table class=\"table table-hover table-condensed\">\n",
       " <thead>\n",
       " <tr>\n",
       " <th>#</th>\n",
       " <th></th>\n",
       " <th>Played</th>\n",
       " <th>Type</th>\n",
       " <th>Server</th>\n",
       " <th>Map</th>\n",
       " <th>Result</th>\n",
       " <th>Opponent</th>\n",
       " <th>Rating</th>\n",
       " <th title=\"Rating ± Uncertainty\">Old Glicko</th>\n",
       " <th title=\"Rating / Uncertainty\">Glicko Change</th>\n",
       " </tr>\n",
       " </thead>\n",
       " <tbody>\n",
       " </tbody>\n",
       " </table>]"
      ]
     },
     "execution_count": 16,
     "metadata": {},
     "output_type": "execute_result"
    }
   ],
   "source": [
    "soup.findAll('table', class_= 'table table-hover table-condensed')"
   ]
  },
  {
   "cell_type": "markdown",
   "metadata": {},
   "source": [
    "### Shut down the browser"
   ]
  },
  {
   "cell_type": "code",
   "execution_count": 17,
   "metadata": {},
   "outputs": [],
   "source": [
    "# driver.close()"
   ]
  }
 ],
 "metadata": {
  "kernelspec": {
   "display_name": "Python 3.10.0 ('ml')",
   "language": "python",
   "name": "python3"
  },
  "language_info": {
   "codemirror_mode": {
    "name": "ipython",
    "version": 3
   },
   "file_extension": ".py",
   "mimetype": "text/x-python",
   "name": "python",
   "nbconvert_exporter": "python",
   "pygments_lexer": "ipython3",
   "version": "3.10.0"
  },
  "orig_nbformat": 4,
  "vscode": {
   "interpreter": {
    "hash": "c58e9361bde7ca617934da376e83056db506761bdc9593ca2087fabac973f609"
   }
  }
 },
 "nbformat": 4,
 "nbformat_minor": 2
}
