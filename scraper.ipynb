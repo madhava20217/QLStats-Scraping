{
 "cells": [
  {
   "cell_type": "code",
   "execution_count": 1,
   "metadata": {},
   "outputs": [],
   "source": [
    "import selenium\n",
    "from selenium import webdriver\n",
    "from selenium.webdriver.common.by import By\n",
    "\n",
    "import bs4\n",
    "import re"
   ]
  },
  {
   "cell_type": "markdown",
   "metadata": {},
   "source": [
    "## For a player"
   ]
  },
  {
   "cell_type": "code",
   "execution_count": 2,
   "metadata": {},
   "outputs": [],
   "source": [
    "options = webdriver.EdgeOptions()\n",
    "# options.add_argument('headless')\n",
    "options.add_argument('inprivate')\n",
    "driver = webdriver.Edge(options= options)"
   ]
  },
  {
   "cell_type": "code",
   "execution_count": 59,
   "metadata": {},
   "outputs": [],
   "source": [
    "driver.get('https://qlstats.net/player/63562')"
   ]
  },
  {
   "cell_type": "markdown",
   "metadata": {},
   "source": [
    "### Cookie screen"
   ]
  },
  {
   "cell_type": "code",
   "execution_count": 60,
   "metadata": {},
   "outputs": [],
   "source": [
    "def is_cookie_screen(driver : selenium.webdriver):\n",
    "    '''A function to check if the given webpage is the 'accept cookies' screen.\n",
    "    Regex matches the body of the '''\n",
    "    element = driver.find_element(By.TAG_NAME, value = 'body')\n",
    "    cookie_screen = re.compile(r'.*(To continue using qlstats, you need to agree to the use of cookies.\\nAgree).*')\n",
    "    if cookie_screen.search(element.text) is None:\n",
    "        return False\n",
    "    return True\n"
   ]
  },
  {
   "cell_type": "code",
   "execution_count": 61,
   "metadata": {},
   "outputs": [],
   "source": [
    "#press the button\n",
    "if is_cookie_screen(driver):\n",
    "    try:\n",
    "        button = driver.find_element(By.TAG_NAME, 'button')\n",
    "        button.click()\n",
    "    except:\n",
    "        \"Cookies could not be accepted, please recheck\""
   ]
  },
  {
   "cell_type": "markdown",
   "metadata": {},
   "source": [
    "### Scraping the player page"
   ]
  },
  {
   "cell_type": "code",
   "execution_count": 62,
   "metadata": {},
   "outputs": [],
   "source": [
    "from bs4 import BeautifulSoup"
   ]
  },
  {
   "cell_type": "code",
   "execution_count": 63,
   "metadata": {},
   "outputs": [],
   "source": [
    "soup = BeautifulSoup(driver.page_source, 'lxml')\n"
   ]
  },
  {
   "cell_type": "code",
   "execution_count": 64,
   "metadata": {},
   "outputs": [
    {
     "name": "stdout",
     "output_type": "stream",
     "text": [
      "Player name:\n",
      "A S U R A\n"
     ]
    }
   ],
   "source": [
    "# finding player name\n",
    "player_name = soup.select_one('h2').text\n",
    "print('Player name:\\n{}'.format(player_name))\n",
    "\n",
    "#for unavailable IDs:\n",
    "if re.match(r\"Sorry, that player wasn't found!\", player_name):\n",
    "    print(\"Player not found, can't proceed\")\n",
    "\n",
    "else:\n",
    "    pass\n",
    "    #TODO Scrape here"
   ]
  },
  {
   "cell_type": "markdown",
   "metadata": {},
   "source": [
    "### ELSE tag here onwards"
   ]
  },
  {
   "cell_type": "code",
   "execution_count": 65,
   "metadata": {},
   "outputs": [
    {
     "data": {
      "text/plain": [
       "['Region: Asia',\n",
       " 'Player ID: 63562',\n",
       " 'Steam ID: 76561197968261050',\n",
       " 'Joined: 2016-02-15   22:51:44',\n",
       " 'Status: active']"
      ]
     },
     "execution_count": 65,
     "metadata": {},
     "output_type": "execute_result"
    }
   ],
   "source": [
    "# parse information from the p tab\n",
    "p_tab_text = soup.select_one('p').text\n",
    "p_tab_list = list(map(str.strip, p_tab_text.split(\"\\n\")))\n",
    "p_tab_list = [x for x in p_tab_list if x != '']\n",
    "\n",
    "p_tab_list"
   ]
  },
  {
   "cell_type": "markdown",
   "metadata": {},
   "source": [
    "#### Split and store in dictionary"
   ]
  },
  {
   "cell_type": "code",
   "execution_count": 72,
   "metadata": {},
   "outputs": [
    {
     "data": {
      "text/plain": [
       "{'name': 'A S U R A',\n",
       " 'Region': 'Asia',\n",
       " 'Player ID': '63562',\n",
       " 'Steam ID': '76561197968261050',\n",
       " 'Joined': '2016-02-15   22:51:44',\n",
       " 'Status': 'active'}"
      ]
     },
     "execution_count": 72,
     "metadata": {},
     "output_type": "execute_result"
    }
   ],
   "source": [
    "player_info = {'name' : player_name}\n",
    "for x in p_tab_list:\n",
    "    elements = x.split(\": \")\n",
    "    player_info[elements[0]] = elements[1]\n",
    "\n",
    "player_info"
   ]
  },
  {
   "cell_type": "code",
   "execution_count": 73,
   "metadata": {},
   "outputs": [],
   "source": [
    "# press the overall button on the player page\n",
    "button = driver.find_element(By.CLASS_NAME, 'tab-overall')\n",
    "button.click()"
   ]
  },
  {
   "cell_type": "code",
   "execution_count": null,
   "metadata": {},
   "outputs": [],
   "source": [
    "for x in p_tab_list:\n",
    "    "
   ]
  },
  {
   "cell_type": "code",
   "execution_count": 30,
   "metadata": {},
   "outputs": [
    {
     "data": {
      "text/plain": [
       "<div class=\"navbar-header\">\n",
       "<a class=\"navbar-toggle\" data-target=\".navbar-collapse\" data-toggle=\"collapse\">\n",
       "<span class=\"icon-bar\"></span>\n",
       "<span class=\"icon-bar\"></span>\n",
       "<span class=\"icon-bar\"></span>\n",
       "</a>\n",
       "<a class=\"navbar-brand\" href=\"/\">\n",
       "<img alt=\"QL Logo\" height=\"32\" src=\"/static/css/img/menu_icon.png\" style=\"float:left;margin-top:-5px;margin-right:10px;-webkit-filter: drop-shadow(0px 5px 5px grey);\" width=\"32\"/>\n",
       "        QLStats\n",
       "      </a>\n",
       "</div>"
      ]
     },
     "execution_count": 30,
     "metadata": {},
     "output_type": "execute_result"
    }
   ],
   "source": [
    "# parse winrate and elo info\n",
    "soup.select('div', class_ = 'row tab-pane active')[1]"
   ]
  },
  {
   "cell_type": "code",
   "execution_count": null,
   "metadata": {},
   "outputs": [],
   "source": []
  },
  {
   "cell_type": "code",
   "execution_count": 31,
   "metadata": {},
   "outputs": [
    {
     "data": {
      "text/plain": [
       "[<table class=\"table table-hover table-condensed\">\n",
       " <thead>\n",
       " <tr>\n",
       " <th>#</th>\n",
       " <th></th>\n",
       " <th>Played</th>\n",
       " <th>Type</th>\n",
       " <th>Server</th>\n",
       " <th>Map</th>\n",
       " <th>Result</th>\n",
       " <th>Opponent</th>\n",
       " <th>Rating</th>\n",
       " <th title=\"Rating ± Uncertainty\">Old Glicko</th>\n",
       " <th title=\"Rating / Uncertainty\">Glicko Change</th>\n",
       " </tr>\n",
       " </thead>\n",
       " <tbody>\n",
       " </tbody>\n",
       " </table>]"
      ]
     },
     "execution_count": 31,
     "metadata": {},
     "output_type": "execute_result"
    }
   ],
   "source": [
    "soup.findAll('table', class_= 'table table-hover table-condensed')"
   ]
  },
  {
   "cell_type": "markdown",
   "metadata": {},
   "source": [
    "### Shut down the browser"
   ]
  },
  {
   "cell_type": "code",
   "execution_count": 32,
   "metadata": {},
   "outputs": [],
   "source": [
    "# driver.close()"
   ]
  }
 ],
 "metadata": {
  "kernelspec": {
   "display_name": "Python 3.10.0 ('ml')",
   "language": "python",
   "name": "python3"
  },
  "language_info": {
   "codemirror_mode": {
    "name": "ipython",
    "version": 3
   },
   "file_extension": ".py",
   "mimetype": "text/x-python",
   "name": "python",
   "nbconvert_exporter": "python",
   "pygments_lexer": "ipython3",
   "version": "3.10.0"
  },
  "orig_nbformat": 4,
  "vscode": {
   "interpreter": {
    "hash": "c58e9361bde7ca617934da376e83056db506761bdc9593ca2087fabac973f609"
   }
  }
 },
 "nbformat": 4,
 "nbformat_minor": 2
}
